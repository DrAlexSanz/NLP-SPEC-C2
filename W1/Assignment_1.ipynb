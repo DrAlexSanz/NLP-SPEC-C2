{
  "nbformat": 4,
  "nbformat_minor": 0,
  "metadata": {
    "colab": {
      "name": "Copia de Copia de Untitled",
      "provenance": [],
      "collapsed_sections": [],
      "authorship_tag": "ABX9TyNqqiTRLX3dIs0dTY3Sv011",
      "include_colab_link": true
    },
    "kernelspec": {
      "name": "python3",
      "display_name": "Python 3"
    }
  },
  "cells": [
    {
      "cell_type": "markdown",
      "metadata": {
        "id": "view-in-github",
        "colab_type": "text"
      },
      "source": [
        "<a href=\"https://colab.research.google.com/github/DrAlexSanz/NLP-SPEC-C2/blob/master/W1/Assignment_1.ipynb\" target=\"_parent\"><img src=\"https://colab.research.google.com/assets/colab-badge.svg\" alt=\"Open In Colab\"/></a>"
      ]
    },
    {
      "cell_type": "markdown",
      "metadata": {
        "id": "tQzlUJ-aLud5"
      },
      "source": [
        "# Task\n",
        "\n",
        "*   Get a word count given a corpus\n",
        "*   Get a word probability in the corpus\n",
        "*   Manipulate strings\n",
        "*   Filter strings\n",
        "*   Implement Minimum edit distance to compare strings and to help find the     optimal path for the edits.\n",
        "*   Understand how dynamic programming works\n",
        "\n"
      ]
    },
    {
      "cell_type": "markdown",
      "metadata": {
        "id": "Ce4TkPhtOx0x"
      },
      "source": [
        "### Edit Distance\n",
        "In this assignment, you will implement models that correct words that are 1 and 2 edit distances away.\n",
        "\n",
        "We say two words are n edit distance away from each other when we need n edits to change one word into another.\n",
        "An edit could consist of one of the following options:\n",
        "\n",
        "Delete (remove a letter): ‘hat’ => ‘at, ha, ht’\n",
        "Switch (swap 2 adjacent letters): ‘eta’ => ‘eat, tea,...’\n",
        "Replace (change 1 letter to another): ‘jat’ => ‘hat, rat, cat, mat, ...’\n",
        "Insert (add a letter): ‘te’ => ‘the, ten, ate, ...’"
      ]
    },
    {
      "cell_type": "code",
      "metadata": {
        "id": "2kRqYLhfKmbC",
        "outputId": "2f87defc-7a3b-4dbb-e59b-ac32445d8779",
        "colab": {
          "base_uri": "https://localhost:8080/",
          "height": 204
        }
      },
      "source": [
        "# Let's start by importing all I will need and download the Shakespeare file\n",
        "\n",
        "import re\n",
        "from collections import Counter\n",
        "import numpy as np\n",
        "import pandas as pd\n",
        "\n",
        "!wget https://raw.githubusercontent.com/DrAlexSanz/NLP-SPEC-C2/master/W1/shakespeare.txt"
      ],
      "execution_count": 1,
      "outputs": [
        {
          "output_type": "stream",
          "text": [
            "--2020-10-05 05:49:00--  https://raw.githubusercontent.com/DrAlexSanz/NLP-SPEC-C2/master/W1/shakespeare.txt\n",
            "Resolving raw.githubusercontent.com (raw.githubusercontent.com)... 151.101.0.133, 151.101.64.133, 151.101.128.133, ...\n",
            "Connecting to raw.githubusercontent.com (raw.githubusercontent.com)|151.101.0.133|:443... connected.\n",
            "HTTP request sent, awaiting response... 200 OK\n",
            "Length: 306996 (300K) [text/plain]\n",
            "Saving to: ‘shakespeare.txt’\n",
            "\n",
            "shakespeare.txt     100%[===================>] 299.80K  --.-KB/s    in 0.06s   \n",
            "\n",
            "2020-10-05 05:49:01 (4.98 MB/s) - ‘shakespeare.txt’ saved [306996/306996]\n",
            "\n"
          ],
          "name": "stdout"
        }
      ]
    },
    {
      "cell_type": "markdown",
      "metadata": {
        "id": "adoWFrz9Q2EQ"
      },
      "source": [
        "### Exercise 1\n",
        "Implement the function process_data which\n",
        "\n",
        "1) Reads in a corpus (text file)\n",
        "\n",
        "2) Changes everything to lowercase\n",
        "\n",
        "3) Returns a list of words.\n",
        "\n",
        "Options and Hints\n",
        "If you would like more of a real-life practice, don't open the 'Hints' below (yet) and try searching the web to derive your answer.\n",
        "If you want a little help, click on the green \"General Hints\" section by clicking on it with your mouse.\n",
        "If you get stuck or are not getting the expected results, click on the green 'Detailed Hints' section to get hints for each step that you'll take to complete this function."
      ]
    },
    {
      "cell_type": "code",
      "metadata": {
        "id": "2tZ2T4OeRlCy"
      },
      "source": [
        "def process_data():\n",
        "    \"\"\"\n",
        "    Read shakespeare file\n",
        "    Make it lowercase\n",
        "    Return the list of words\n",
        "    I won't pass the path or the file as an argument this time\n",
        "    \"\"\"\n",
        "\n",
        "    with open(\"shakespeare.txt\") as f:\n",
        "        data = f.read()\n",
        "\n",
        "    data = data.lower()\n",
        "    words = re.findall(r\"\\w+\", data) # If I put (\\W+) It will also return the spaces as characters\n",
        "    # I could probably use .split()\n",
        "\n",
        "    return words\n",
        "\n"
      ],
      "execution_count": 2,
      "outputs": []
    },
    {
      "cell_type": "code",
      "metadata": {
        "id": "Fe0P-Ok2UjSx"
      },
      "source": [
        "words = process_data()\n",
        "\n",
        "# print(words)"
      ],
      "execution_count": 3,
      "outputs": []
    },
    {
      "cell_type": "markdown",
      "metadata": {
        "id": "FpXWEOWYUpQj"
      },
      "source": [
        "Now I convert the whole list to a set to avoid duplicates"
      ]
    },
    {
      "cell_type": "code",
      "metadata": {
        "id": "D4ArA9tqUwUw",
        "outputId": "92b9d9d1-88d0-4831-cec0-017e8cd9e708",
        "colab": {
          "base_uri": "https://localhost:8080/",
          "height": 51
        }
      },
      "source": [
        "print(\"Total words in file:\", len(words))\n",
        "vocab = set(words)\n",
        "print(\"Unique words in file:\", len(vocab))"
      ],
      "execution_count": 4,
      "outputs": [
        {
          "output_type": "stream",
          "text": [
            "Total words in file: 53614\n",
            "Unique words in file: 6116\n"
          ],
          "name": "stdout"
        }
      ]
    },
    {
      "cell_type": "markdown",
      "metadata": {
        "id": "PISPqAonVMb1"
      },
      "source": [
        "## Exercise 2\n",
        "Implement a get_count function that returns a dictionary\n",
        "\n",
        "The dictionary's keys are words. The value for each word is the number of times that word appears in the corpus.\n",
        "\n",
        "* Try implementing this using a for loop and a regular dictionary. This may be good practice for similar coding interview questions\n",
        "* You can also use defaultdict instead of a regualr dictionary, along with the for loop\n",
        "* Otherwise, to skip using a for loop, you can use Python's Counter class"
      ]
    },
    {
      "cell_type": "code",
      "metadata": {
        "id": "OPeVoZgEVYhj"
      },
      "source": [
        "def get_count_auto(word_list):\n",
        "    \"\"\"\n",
        "    Implement a get_count function that returns a dictionary.\n",
        "    The dictionary's keys are words.\n",
        "    The value for each word is the number of times that word appears in the corpus.\n",
        "    \"\"\"\n",
        "\n",
        "    word_count_dict = Counter(word_list)\n",
        "\n",
        "    return word_count_dict\n",
        "\n",
        "def get_count_manual(word_list):\n",
        "    \"\"\"\n",
        "    Implement a get_count function that returns a dictionary.\n",
        "    The dictionary's keys are words.\n",
        "    The value for each word is the number of times that word appears in the corpus.\n",
        "    \"\"\"\n",
        "\n",
        "    word_count_dict = {}\n",
        "\n",
        "    for i in word_list:\n",
        "        word_count_dict[i] = word_count_dict.get(i, 0) + 1\n",
        "\n",
        "    return word_count_dict"
      ],
      "execution_count": 5,
      "outputs": []
    },
    {
      "cell_type": "code",
      "metadata": {
        "id": "92Ud_G6tYPy-",
        "outputId": "fe4c8fef-44a9-4971-a29e-e2cab946bca8",
        "colab": {
          "base_uri": "https://localhost:8080/",
          "height": 51
        }
      },
      "source": [
        "auto_voc = get_count_auto(words)\n",
        "man_voc= get_count_manual(words)\n",
        "\n",
        "print(list(auto_voc.items())[:10])\n",
        "print(list(man_voc.items())[:10])"
      ],
      "execution_count": 6,
      "outputs": [
        {
          "output_type": "stream",
          "text": [
            "[('o', 157), ('for', 474), ('a', 757), ('muse', 18), ('of', 1094), ('fire', 22), ('that', 785), ('would', 138), ('ascend', 1), ('the', 1525)]\n",
            "[('o', 157), ('for', 474), ('a', 757), ('muse', 18), ('of', 1094), ('fire', 22), ('that', 785), ('would', 138), ('ascend', 1), ('the', 1525)]\n"
          ],
          "name": "stdout"
        }
      ]
    },
    {
      "cell_type": "markdown",
      "metadata": {
        "id": "JquCUs4UWq_P"
      },
      "source": [
        "### Exercise 3\n",
        "\n",
        "Given the dictionary of word counts, compute the probability that each word will appear if randomly selected from the corpus of words. Remember:\n",
        "\n",
        "$P(w) = \\frac{Count(w)}{Total(w)}$ "
      ]
    },
    {
      "cell_type": "code",
      "metadata": {
        "id": "lVFHVLKoZQgh"
      },
      "source": [
        "def get_probs(voc):\n",
        "    \"\"\"\n",
        "    Get a dictionary with the vocabulary and calculate the probability of a word\n",
        "    using the count\n",
        "    \"\"\"\n",
        "\n",
        "    voc_prob = {}\n",
        "    total_words = sum(voc.values())\n",
        "    for w in voc.keys():\n",
        "      voc_prob[w] = voc.get(w, 0)/total_words\n",
        "\n",
        "    return voc_prob"
      ],
      "execution_count": 7,
      "outputs": []
    },
    {
      "cell_type": "code",
      "metadata": {
        "id": "mkKlm839d1I3",
        "outputId": "74773d67-9edb-459f-ba53-78eee4efc27f",
        "colab": {
          "base_uri": "https://localhost:8080/",
          "height": 51
        }
      },
      "source": [
        "probs = get_probs(auto_voc)\n",
        "\n",
        "print(len(probs))\n",
        "print(sum(probs.values()))"
      ],
      "execution_count": 8,
      "outputs": [
        {
          "output_type": "stream",
          "text": [
            "6116\n",
            "0.999999999999934\n"
          ],
          "name": "stdout"
        }
      ]
    },
    {
      "cell_type": "markdown",
      "metadata": {
        "id": "I-4Be4zpqZCq"
      },
      "source": [
        "##Part 2: String Manipulations\n",
        "Now, that you have computed $P(w_i)$ for all the words in the corpus, you will write a few functions to manipulate strings so that you can edit the erroneous strings and return the right spellings of the words. In this section, you will implement four functions:\n",
        "\n",
        "*delete_letter*: given a word, it returns all the possible strings that have one character removed.\n",
        "*switch_letter*: given a word, it returns all the possible strings that have two adjacent letters switched.\n",
        "*replace_letter*: given a word, it returns all the possible strings that have one character replaced by another different letter.\n",
        "*insert_letter*: given a word, it returns all the possible strings that have an additional character inserted."
      ]
    },
    {
      "cell_type": "markdown",
      "metadata": {
        "id": "F10v_ozNve-x"
      },
      "source": [
        "### Exercise 4\n",
        "Instructions for delete_letter(): Implement a delete_letter() function that, given a word, returns a list of strings with one character deleted.\n",
        "\n",
        "For example, given the word nice, it would return the set: {'ice', 'nce', 'nic', 'nie'}.\n",
        "\n",
        "**Step 1:** Create a list of 'splits'. This is all the ways you can split a word into Left and Right: For example,\n",
        "'nice is split into : [('', 'nice'), ('n', 'ice'), ('ni', 'ce'), ('nic', 'e'), ('nice', '')] This is common to all four functions (delete, replace, switch, insert).\n",
        "**Step 2:** This is specific to delete_letter. Here, we are generating all words that result from deleting one character.\n",
        "This can be done in a single line with a list comprehension. You can makes use of this type of syntax:\n",
        "[f(a,b) for a, b in splits if condition]\n",
        "\n",
        "For our 'nice' example you get: ['ice', 'nce', 'nie', 'nic']."
      ]
    },
    {
      "cell_type": "code",
      "metadata": {
        "id": "jUobQAYvv5k5"
      },
      "source": [
        "def delete_letter(word):\n",
        "    \"\"\"\n",
        "    take one word, split it into L and R substrings. Then delete \n",
        "    the first letter of R and combine the result.\n",
        "    \"\"\"\n",
        "\n",
        "    splits = [(word[:i], word[i:]) for i in range(len(word))]\n",
        "    results = [(L + R[1:]) for L, R in splits]\n",
        "\n",
        "    return results"
      ],
      "execution_count": 9,
      "outputs": []
    },
    {
      "cell_type": "code",
      "metadata": {
        "id": "Jzf9VXLSw0VC",
        "outputId": "7fcbbe06-a86a-402f-981f-c31c00a7e32b",
        "colab": {
          "base_uri": "https://localhost:8080/",
          "height": 34
        }
      },
      "source": [
        "cip = delete_letter(\"cipote\")\n",
        "print(cip) #Check that it doesn't return the full word (range(len(w) +1))"
      ],
      "execution_count": 10,
      "outputs": [
        {
          "output_type": "stream",
          "text": [
            "['ipote', 'cpote', 'ciote', 'cipte', 'cipoe', 'cipot']\n"
          ],
          "name": "stdout"
        }
      ]
    },
    {
      "cell_type": "markdown",
      "metadata": {
        "id": "9bhOkM1gpYcy"
      },
      "source": [
        "## Exercise 5\n",
        "Instructions for switch_letter(): Now implement a function that switches two letters in a word. It takes in a word and returns a list of all the possible switches of two letters that are adjacent to each other. It shouldn't return the original word.\n",
        "\n",
        "For example, given the word 'eta', it returns {'eat', 'tea'}, but does not return 'ate'.\n",
        "Step 1: is the same as in delete_letter()\n",
        "Step 2: A list comprehension or for loop which forms strings by swapping adjacent letters. This is of the form:\n",
        "[f(L,R) for L, R in splits if condition] where 'condition' will test the length of R in a given iteration. See below."
      ]
    },
    {
      "cell_type": "code",
      "metadata": {
        "id": "7M8GuIx8pp_2"
      },
      "source": [
        "def switch_letter(word):\n",
        "    \"\"\"\n",
        "    Get a word and produce all the combinations of two adjacent letters swapped\n",
        "    It shouldn't return the original word\n",
        "    \"\"\"\n",
        "\n",
        "    splits = [(word[:i], word[i:]) for i in range(len(word)) if (len(word[:i]) and len(word[:i])) > 0] # Same as before\n",
        "\n",
        "    swaps = [L[:-1] + R[0] + L[-1] + R[1:] for L, R in splits]\n",
        "\n",
        "    return swaps"
      ],
      "execution_count": 11,
      "outputs": []
    },
    {
      "cell_type": "code",
      "metadata": {
        "id": "h-7cLUKoqHIx",
        "outputId": "43cdad4c-201b-49de-e3b1-81034ab8eca2",
        "colab": {
          "base_uri": "https://localhost:8080/",
          "height": 34
        }
      },
      "source": [
        "test = switch_letter(\"Cipote\")\n",
        "print(test)"
      ],
      "execution_count": 12,
      "outputs": [
        {
          "output_type": "stream",
          "text": [
            "['iCpote', 'Cpiote', 'Ciopte', 'Ciptoe', 'Cipoet']\n"
          ],
          "name": "stdout"
        }
      ]
    },
    {
      "cell_type": "markdown",
      "metadata": {
        "id": "WGyDG4vQs5Gw"
      },
      "source": [
        "### Exercise 6\n",
        "Instructions for replace_letter(): Now implement a function that takes in a word and returns a list of strings with one replaced letter from the original word.\n",
        "\n",
        "Step 1: is the same as in delete_letter()\n",
        "\n",
        "Step 2: A list comprehension or for loop which form strings by replacing letters. This can be of the form:\n",
        "[f(a,b,c) for a, b in splits if condition for c in string]\n",
        "**Note the use of the second for loop.**\n",
        "\n",
        "It is expected in this routine that one or more of the replacements will include the original word. For example, replacing the first letter of 'ear' with 'e' will return 'ear'.\n",
        "\n",
        "Step 3: Remove the original input letter from the output.\n",
        "\n",
        "* To remove a word from a list, first store its contents inside a set()\n",
        "* Use set.discard('the_word') to remove a word in a set (if the word does not exist in the set, then it will not throw a KeyError.\n",
        "* Using set.remove('the_word') throws a KeyError if the word does not exist in the set."
      ]
    },
    {
      "cell_type": "code",
      "metadata": {
        "id": "SGBQxkNstMhG"
      },
      "source": [
        "def replace_letter(word):\n",
        "    \"\"\"\n",
        "    Split, replace, and then remove the original\n",
        "    \"\"\"\n",
        "    letters = 'abcdefghijklmnopqrstuvwxyz'\n",
        "\n",
        "    splits = [(word[:i], word[i:]) for i in range(len(word))] # Same as before\n",
        "\n",
        "    replaced = [L + alph + (R[1:] if len(R) > 1 else \"\") for L, R in splits for alph in letters]\n",
        "\n",
        "    # Make replaced a set to get only uniques\n",
        "\n",
        "    replaced_set = set(replaced)\n",
        "    replaced_set.remove(word)\n",
        "    results = sorted(list(replaced_set))\n",
        "\n",
        "    return results\n",
        "\n"
      ],
      "execution_count": 13,
      "outputs": []
    },
    {
      "cell_type": "code",
      "metadata": {
        "id": "sumI68c3tgDv",
        "outputId": "8ac652bb-847b-44d8-da27-23d2a9ad6867",
        "colab": {
          "base_uri": "https://localhost:8080/",
          "height": 34
        }
      },
      "source": [
        "a = replace_letter(\"cipote\") # Test with aa in case of doubt. It works\n",
        "print(len(a))\n"
      ],
      "execution_count": 14,
      "outputs": [
        {
          "output_type": "stream",
          "text": [
            "150\n"
          ],
          "name": "stdout"
        }
      ]
    },
    {
      "cell_type": "markdown",
      "metadata": {
        "id": "cm4Z19rywl4C"
      },
      "source": [
        "### Exercise 7\n",
        "Instructions for insert_letter(): Now implement a function that takes in a word and returns a list with a letter inserted at every offset.\n",
        "\n",
        "* Step 1: is the same as in delete_letter()\n",
        "\n",
        "* Step 2: This can be a list comprehension of the form:\n",
        "[f(a,b,c) for a, b in splits if condition for c in string]"
      ]
    },
    {
      "cell_type": "code",
      "metadata": {
        "id": "pN37uFd5wqxi"
      },
      "source": [
        "def insert_letter(word):\n",
        "\n",
        "    letters = 'abcdefghijklmnopqrstuvwxyz'\n",
        "\n",
        "    splits = [(word[:i], word[i:]) for i in range(len(word) + 1)]\n",
        "\n",
        "    inserts = [L + alph + R for L, R in splits for alph in letters]\n",
        "\n",
        "\n",
        "    return inserts\n"
      ],
      "execution_count": 15,
      "outputs": []
    },
    {
      "cell_type": "code",
      "metadata": {
        "id": "b5EWoHfEx7_1",
        "outputId": "385f4406-9650-4e74-cb3a-6704bf6bb8c4",
        "colab": {
          "base_uri": "https://localhost:8080/",
          "height": 34
        }
      },
      "source": [
        "a = insert_letter(\"cipote\")\n",
        "print(len(a)) # Should be 78 with input = \"at\""
      ],
      "execution_count": 16,
      "outputs": [
        {
          "output_type": "stream",
          "text": [
            "182\n"
          ],
          "name": "stdout"
        }
      ]
    },
    {
      "cell_type": "markdown",
      "metadata": {
        "id": "6dxNXFYwaGQK"
      },
      "source": [
        "# Part 3: Combining the edits\n",
        "Now that you have implemented the string manipulations, you will create two functions that, given a string, will return all the possible single and double edits on that string. These will be edit_one_letter() and edit_two_letters()."
      ]
    },
    {
      "cell_type": "markdown",
      "metadata": {
        "id": "HFL7XDmlaI_e"
      },
      "source": [
        "### 3.1 Edit one letter\n",
        "\n",
        "### Exercise 8\n",
        "Instructions: Implement the edit_one_letter function to get all the possible edits that are one edit away from a word. The edits consist of the replace, insert, delete, and optionally the switch operation. You should use the previous functions you have already implemented to complete this function. The 'switch' function is a less common edit function, so its use will be selected by an \"allow_switches\" input argument.\n",
        "\n",
        "* Note that those functions return lists while this function should return a python set. Utilizing a set eliminates any duplicate entries.\n",
        "\n",
        "* Each of the functions returns a list. You can combine lists using the `+` operator.\n",
        "* To get unique strings (avoid duplicates), you can use the set() function."
      ]
    },
    {
      "cell_type": "code",
      "metadata": {
        "id": "qB1MPPOqaRvK"
      },
      "source": [
        "def edit_one_leter(word, allow_switch = True):\n",
        "\n",
        "    deletes = delete_letter(word)\n",
        "\n",
        "    replaces = replace_letter(word)\n",
        "\n",
        "    inserts = insert_letter(word)\n",
        "\n",
        "    if allow_switch:\n",
        "        switches = switch_letter(word)\n",
        "    \n",
        "    else:\n",
        "        switches = []\n",
        "\n",
        "    outputs = deletes + replaces + inserts + switches\n",
        "\n",
        "    result = set(outputs)\n",
        "\n",
        "    return result"
      ],
      "execution_count": 17,
      "outputs": []
    },
    {
      "cell_type": "code",
      "metadata": {
        "id": "SVMgcb5AbeJS",
        "outputId": "1c21f5fd-6c67-49ed-fc99-ce4a95eb3a49",
        "colab": {
          "base_uri": "https://localhost:8080/",
          "height": 34
        }
      },
      "source": [
        "test = edit_one_leter(\"cipote\") # at gives len = 129 as expected\n",
        "\n",
        "print(len(test))"
      ],
      "execution_count": 19,
      "outputs": [
        {
          "output_type": "stream",
          "text": [
            "337\n"
          ],
          "name": "stdout"
        }
      ]
    },
    {
      "cell_type": "markdown",
      "metadata": {
        "id": "i_mhLYa5cGd1"
      },
      "source": [
        "# Part 3.2 Edit two letters\n",
        "\n",
        "### Exercise 9\n",
        "Now you can generalize this to implement to get two edits on a word. To do so, you would have to get all the possible edits on a single word and then for each modified word, you would have to modify it again.\n",
        "\n",
        "**Instructions:** Implement the edit_two_letters function that returns a set of words that are two edits away. Note that creating additional edits based on the edit_one_letter function may 'restore' some one_edits to zero or one edits. That is allowed here. This accounted for in get_corrections.\n",
        "\n",
        "* You will likely want to take the union of two sets.\n",
        "* You can either use set.union() or use the '|' (or operator) to union two sets\n",
        "* See the documentation Python sets for examples of using operators or functions of the Python set."
      ]
    },
    {
      "cell_type": "code",
      "metadata": {
        "id": "jcVFltmXbzNt"
      },
      "source": [
        "def edit_two_letters(word, allow_switch = True):\n",
        "\n",
        "    second_edits_set = set()\n",
        "    ed_one = edit_one_leter(word)\n",
        "\n",
        "    # second_edits = [edit_one_leter(w) for w in ed_one if w]\n",
        "\n",
        "    for w in ed_one:\n",
        "\n",
        "        if w:\n",
        "            second_edits = edit_one_leter(w)\n",
        "            second_edits_set.update(second_edits)\n",
        "\n",
        "    # result = set(second_edits)\n",
        "\n",
        "    return second_edits_set"
      ],
      "execution_count": 38,
      "outputs": []
    },
    {
      "cell_type": "code",
      "metadata": {
        "id": "NhqDJzs-cxvN",
        "outputId": "bb82bcef-1d40-477e-87ce-ca81468ef893",
        "colab": {
          "base_uri": "https://localhost:8080/",
          "height": 34
        }
      },
      "source": [
        "test = edit_two_letters(\"cipote\") # \"a\" produces 2564\n",
        "\n",
        "print(len(test))"
      ],
      "execution_count": 40,
      "outputs": [
        {
          "output_type": "stream",
          "text": [
            "52170\n"
          ],
          "name": "stdout"
        }
      ]
    },
    {
      "cell_type": "markdown",
      "metadata": {
        "id": "JRQuDtpufTRB"
      },
      "source": [
        "##Part 3-3: suggest spelling suggestions\n",
        "Now you will use your edit_two_letters function to get a set of all the possible 2 edits on your word. You will then use those strings to get the most probable word you meant to type aka your typing suggestion.\n",
        "\n",
        "\n",
        "### Exercise 10\n",
        "Instructions: Implement get_corrections, which returns a list of zero to n possible suggestion tuples of the form (word, probability_of_word).\n",
        "\n",
        "### Step 1: Generate suggestions for a supplied word: You'll use the edit functions you have developed. The 'suggestion algorithm' should follow this logic:\n",
        "\n",
        "If the word is in the vocabulary, suggest the word.\n",
        "Otherwise, if there are suggestions from edit_one_letter that are in the vocabulary, use those.\n",
        "Otherwise, if there are suggestions from edit_two_letters that are in the vocabulary, use those.\n",
        "Otherwise, suggest the input word.*\n",
        "The idea is that words generated from fewer edits are more likely than words with more edits.\n",
        "Note:\n",
        "\n",
        "Edits of one or two letters may 'restore' strings to either zero or one edit. This algorithm accounts for this by preferentially selecting lower distance edits first."
      ]
    },
    {
      "cell_type": "code",
      "metadata": {
        "id": "5uXL48difZa7"
      },
      "source": [
        "def get_corrections(word, probs, vocab, n):\n",
        "    \"\"\"\n",
        "    Input: \n",
        "        word: a user entered string to check for suggestions\n",
        "        probs: a dictionary that maps each word to its probability in the corpus\n",
        "        vocab: a set containing all the vocabulary\n",
        "        n: number of possible word corrections you want returned in the dictionary\n",
        "    Output: \n",
        "        n_best: a list of tuples with the most probable n corrected words and their probabilities.\n",
        "    \n",
        "    \"\"\"\n",
        "\n",
        "    suggestions = []\n",
        "    n_best = []\n",
        "\n",
        "    suggestions = list((word in vocab and word) or edit_one_leter(word).intersection(vocab) or edit_two_letters(word).intersection(vocab))\n",
        "\n",
        "    n_best = [[s, probs[s]] for s in list(reversed(suggestions))]\n",
        "    n_best = n_best[:n]\n",
        "\n",
        "    return n_best"
      ],
      "execution_count": 49,
      "outputs": []
    },
    {
      "cell_type": "code",
      "metadata": {
        "id": "0slA4lJigcAy",
        "outputId": "3bce142a-fa87-416c-a743-1a9d1994a00c",
        "colab": {
          "base_uri": "https://localhost:8080/",
          "height": 54
        }
      },
      "source": [
        "test = get_corrections(\"cipot\", probs, vocab, 13)\n",
        "print(test)"
      ],
      "execution_count": 51,
      "outputs": [
        {
          "output_type": "stream",
          "text": [
            "[['capet', 5.595553400231283e-05], ['pilot', 1.865184466743761e-05], ['chopt', 1.865184466743761e-05], ['spot', 1.865184466743761e-05], ['riot', 1.865184466743761e-05]]\n"
          ],
          "name": "stdout"
        }
      ]
    }
  ]
}