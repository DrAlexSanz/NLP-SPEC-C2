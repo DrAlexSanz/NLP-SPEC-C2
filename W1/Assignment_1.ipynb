{
  "nbformat": 4,
  "nbformat_minor": 0,
  "metadata": {
    "colab": {
      "name": "Copia de Copia de Copia de Untitled",
      "provenance": [],
      "collapsed_sections": [],
      "authorship_tag": "ABX9TyNkagTc7vG177qAyYFDcLva",
      "include_colab_link": true
    },
    "kernelspec": {
      "name": "python3",
      "display_name": "Python 3"
    }
  },
  "cells": [
    {
      "cell_type": "markdown",
      "metadata": {
        "id": "view-in-github",
        "colab_type": "text"
      },
      "source": [
        "<a href=\"https://colab.research.google.com/github/DrAlexSanz/NLP-SPEC-C2/blob/master/W1/Assignment_1.ipynb\" target=\"_parent\"><img src=\"https://colab.research.google.com/assets/colab-badge.svg\" alt=\"Open In Colab\"/></a>"
      ]
    },
    {
      "cell_type": "markdown",
      "metadata": {
        "id": "tQzlUJ-aLud5"
      },
      "source": [
        "# Task\n",
        "\n",
        "*   Get a word count given a corpus\n",
        "*   Get a word probability in the corpus\n",
        "*   Manipulate strings\n",
        "*   Filter strings\n",
        "*   Implement Minimum edit distance to compare strings and to help find the     optimal path for the edits.\n",
        "*   Understand how dynamic programming works\n",
        "\n"
      ]
    },
    {
      "cell_type": "markdown",
      "metadata": {
        "id": "Ce4TkPhtOx0x"
      },
      "source": [
        "### Edit Distance\n",
        "In this assignment, you will implement models that correct words that are 1 and 2 edit distances away.\n",
        "\n",
        "We say two words are n edit distance away from each other when we need n edits to change one word into another.\n",
        "An edit could consist of one of the following options:\n",
        "\n",
        "Delete (remove a letter): ‘hat’ => ‘at, ha, ht’\n",
        "Switch (swap 2 adjacent letters): ‘eta’ => ‘eat, tea,...’\n",
        "Replace (change 1 letter to another): ‘jat’ => ‘hat, rat, cat, mat, ...’\n",
        "Insert (add a letter): ‘te’ => ‘the, ten, ate, ...’"
      ]
    },
    {
      "cell_type": "code",
      "metadata": {
        "id": "2kRqYLhfKmbC",
        "outputId": "ab64b4fe-1043-4cd1-e269-7825fd0a95e2",
        "colab": {
          "base_uri": "https://localhost:8080/"
        }
      },
      "source": [
        "# Let's start by importing all I will need and download the Shakespeare file\n",
        "\n",
        "import re\n",
        "from collections import Counter\n",
        "import numpy as np\n",
        "import pandas as pd\n",
        "\n",
        "!wget https://raw.githubusercontent.com/DrAlexSanz/NLP-SPEC-C2/master/W1/shakespeare.txt"
      ],
      "execution_count": 1,
      "outputs": [
        {
          "output_type": "stream",
          "text": [
            "--2020-10-06 20:28:38--  https://raw.githubusercontent.com/DrAlexSanz/NLP-SPEC-C2/master/W1/shakespeare.txt\n",
            "Resolving raw.githubusercontent.com (raw.githubusercontent.com)... 151.101.0.133, 151.101.64.133, 151.101.128.133, ...\n",
            "Connecting to raw.githubusercontent.com (raw.githubusercontent.com)|151.101.0.133|:443... connected.\n",
            "HTTP request sent, awaiting response... 200 OK\n",
            "Length: 306996 (300K) [text/plain]\n",
            "Saving to: ‘shakespeare.txt’\n",
            "\n",
            "shakespeare.txt     100%[===================>] 299.80K  --.-KB/s    in 0.06s   \n",
            "\n",
            "2020-10-06 20:28:39 (5.00 MB/s) - ‘shakespeare.txt’ saved [306996/306996]\n",
            "\n"
          ],
          "name": "stdout"
        }
      ]
    },
    {
      "cell_type": "markdown",
      "metadata": {
        "id": "adoWFrz9Q2EQ"
      },
      "source": [
        "### Exercise 1\n",
        "Implement the function process_data which\n",
        "\n",
        "1) Reads in a corpus (text file)\n",
        "\n",
        "2) Changes everything to lowercase\n",
        "\n",
        "3) Returns a list of words.\n",
        "\n",
        "Options and Hints\n",
        "If you would like more of a real-life practice, don't open the 'Hints' below (yet) and try searching the web to derive your answer.\n",
        "If you want a little help, click on the green \"General Hints\" section by clicking on it with your mouse.\n",
        "If you get stuck or are not getting the expected results, click on the green 'Detailed Hints' section to get hints for each step that you'll take to complete this function."
      ]
    },
    {
      "cell_type": "code",
      "metadata": {
        "id": "2tZ2T4OeRlCy"
      },
      "source": [
        "def process_data():\n",
        "    \"\"\"\n",
        "    Read shakespeare file\n",
        "    Make it lowercase\n",
        "    Return the list of words\n",
        "    I won't pass the path or the file as an argument this time\n",
        "    \"\"\"\n",
        "\n",
        "    with open(\"shakespeare.txt\") as f:\n",
        "        data = f.read()\n",
        "\n",
        "    data = data.lower()\n",
        "    words = re.findall(r\"\\w+\", data) # If I put (\\W+) It will also return the spaces as characters\n",
        "    # I could probably use .split()\n",
        "\n",
        "    return words\n",
        "\n"
      ],
      "execution_count": 2,
      "outputs": []
    },
    {
      "cell_type": "code",
      "metadata": {
        "id": "Fe0P-Ok2UjSx"
      },
      "source": [
        "words = process_data()\n",
        "\n",
        "# print(words)"
      ],
      "execution_count": 3,
      "outputs": []
    },
    {
      "cell_type": "markdown",
      "metadata": {
        "id": "FpXWEOWYUpQj"
      },
      "source": [
        "Now I convert the whole list to a set to avoid duplicates"
      ]
    },
    {
      "cell_type": "code",
      "metadata": {
        "id": "D4ArA9tqUwUw",
        "outputId": "98fd23ad-e30a-4a9e-a8f7-c781edce7828",
        "colab": {
          "base_uri": "https://localhost:8080/"
        }
      },
      "source": [
        "print(\"Total words in file:\", len(words))\n",
        "vocab = set(words)\n",
        "print(\"Unique words in file:\", len(vocab))"
      ],
      "execution_count": 4,
      "outputs": [
        {
          "output_type": "stream",
          "text": [
            "Total words in file: 53614\n",
            "Unique words in file: 6116\n"
          ],
          "name": "stdout"
        }
      ]
    },
    {
      "cell_type": "markdown",
      "metadata": {
        "id": "PISPqAonVMb1"
      },
      "source": [
        "## Exercise 2\n",
        "Implement a get_count function that returns a dictionary\n",
        "\n",
        "The dictionary's keys are words. The value for each word is the number of times that word appears in the corpus.\n",
        "\n",
        "* Try implementing this using a for loop and a regular dictionary. This may be good practice for similar coding interview questions\n",
        "* You can also use defaultdict instead of a regualr dictionary, along with the for loop\n",
        "* Otherwise, to skip using a for loop, you can use Python's Counter class"
      ]
    },
    {
      "cell_type": "code",
      "metadata": {
        "id": "OPeVoZgEVYhj"
      },
      "source": [
        "def get_count_auto(word_list):\n",
        "    \"\"\"\n",
        "    Implement a get_count function that returns a dictionary.\n",
        "    The dictionary's keys are words.\n",
        "    The value for each word is the number of times that word appears in the corpus.\n",
        "    \"\"\"\n",
        "\n",
        "    word_count_dict = Counter(word_list)\n",
        "\n",
        "    return word_count_dict\n",
        "\n",
        "def get_count_manual(word_list):\n",
        "    \"\"\"\n",
        "    Implement a get_count function that returns a dictionary.\n",
        "    The dictionary's keys are words.\n",
        "    The value for each word is the number of times that word appears in the corpus.\n",
        "    \"\"\"\n",
        "\n",
        "    word_count_dict = {}\n",
        "\n",
        "    for i in word_list:\n",
        "        word_count_dict[i] = word_count_dict.get(i, 0) + 1\n",
        "\n",
        "    return word_count_dict"
      ],
      "execution_count": 5,
      "outputs": []
    },
    {
      "cell_type": "code",
      "metadata": {
        "id": "92Ud_G6tYPy-",
        "outputId": "34aefff3-ee95-428d-8d76-eaa9c2543f2c",
        "colab": {
          "base_uri": "https://localhost:8080/"
        }
      },
      "source": [
        "auto_voc = get_count_auto(words)\n",
        "man_voc= get_count_manual(words)\n",
        "\n",
        "print(list(auto_voc.items())[:10])\n",
        "print(list(man_voc.items())[:10])"
      ],
      "execution_count": 6,
      "outputs": [
        {
          "output_type": "stream",
          "text": [
            "[('o', 157), ('for', 474), ('a', 757), ('muse', 18), ('of', 1094), ('fire', 22), ('that', 785), ('would', 138), ('ascend', 1), ('the', 1525)]\n",
            "[('o', 157), ('for', 474), ('a', 757), ('muse', 18), ('of', 1094), ('fire', 22), ('that', 785), ('would', 138), ('ascend', 1), ('the', 1525)]\n"
          ],
          "name": "stdout"
        }
      ]
    },
    {
      "cell_type": "markdown",
      "metadata": {
        "id": "JquCUs4UWq_P"
      },
      "source": [
        "### Exercise 3\n",
        "\n",
        "Given the dictionary of word counts, compute the probability that each word will appear if randomly selected from the corpus of words. Remember:\n",
        "\n",
        "$P(w) = \\frac{Count(w)}{Total(w)}$ "
      ]
    },
    {
      "cell_type": "code",
      "metadata": {
        "id": "lVFHVLKoZQgh"
      },
      "source": [
        "def get_probs(voc):\n",
        "    \"\"\"\n",
        "    Get a dictionary with the vocabulary and calculate the probability of a word\n",
        "    using the count\n",
        "    \"\"\"\n",
        "\n",
        "    voc_prob = {}\n",
        "    total_words = sum(voc.values())\n",
        "    for w in voc.keys():\n",
        "      voc_prob[w] = voc.get(w, 0)/total_words\n",
        "\n",
        "    return voc_prob"
      ],
      "execution_count": 7,
      "outputs": []
    },
    {
      "cell_type": "code",
      "metadata": {
        "id": "mkKlm839d1I3",
        "outputId": "23ce635f-e588-4716-dfd8-a6037e3fd78e",
        "colab": {
          "base_uri": "https://localhost:8080/"
        }
      },
      "source": [
        "probs = get_probs(auto_voc)\n",
        "\n",
        "print(len(probs))\n",
        "print(sum(probs.values()))"
      ],
      "execution_count": 8,
      "outputs": [
        {
          "output_type": "stream",
          "text": [
            "6116\n",
            "0.999999999999934\n"
          ],
          "name": "stdout"
        }
      ]
    },
    {
      "cell_type": "markdown",
      "metadata": {
        "id": "I-4Be4zpqZCq"
      },
      "source": [
        "##Part 2: String Manipulations\n",
        "Now, that you have computed $P(w_i)$ for all the words in the corpus, you will write a few functions to manipulate strings so that you can edit the erroneous strings and return the right spellings of the words. In this section, you will implement four functions:\n",
        "\n",
        "*delete_letter*: given a word, it returns all the possible strings that have one character removed.\n",
        "*switch_letter*: given a word, it returns all the possible strings that have two adjacent letters switched.\n",
        "*replace_letter*: given a word, it returns all the possible strings that have one character replaced by another different letter.\n",
        "*insert_letter*: given a word, it returns all the possible strings that have an additional character inserted."
      ]
    },
    {
      "cell_type": "markdown",
      "metadata": {
        "id": "F10v_ozNve-x"
      },
      "source": [
        "### Exercise 4\n",
        "Instructions for delete_letter(): Implement a delete_letter() function that, given a word, returns a list of strings with one character deleted.\n",
        "\n",
        "For example, given the word nice, it would return the set: {'ice', 'nce', 'nic', 'nie'}.\n",
        "\n",
        "**Step 1:** Create a list of 'splits'. This is all the ways you can split a word into Left and Right: For example,\n",
        "'nice is split into : [('', 'nice'), ('n', 'ice'), ('ni', 'ce'), ('nic', 'e'), ('nice', '')] This is common to all four functions (delete, replace, switch, insert).\n",
        "**Step 2:** This is specific to delete_letter. Here, we are generating all words that result from deleting one character.\n",
        "This can be done in a single line with a list comprehension. You can makes use of this type of syntax:\n",
        "[f(a,b) for a, b in splits if condition]\n",
        "\n",
        "For our 'nice' example you get: ['ice', 'nce', 'nie', 'nic']."
      ]
    },
    {
      "cell_type": "code",
      "metadata": {
        "id": "jUobQAYvv5k5"
      },
      "source": [
        "def delete_letter(word):\n",
        "    \"\"\"\n",
        "    take one word, split it into L and R substrings. Then delete \n",
        "    the first letter of R and combine the result.\n",
        "    \"\"\"\n",
        "\n",
        "    splits = [(word[:i], word[i:]) for i in range(len(word))]\n",
        "    results = [(L + R[1:]) for L, R in splits]\n",
        "\n",
        "    return results"
      ],
      "execution_count": 9,
      "outputs": []
    },
    {
      "cell_type": "code",
      "metadata": {
        "id": "Jzf9VXLSw0VC",
        "outputId": "04a810b2-a208-48b3-ec2f-8e2454074074",
        "colab": {
          "base_uri": "https://localhost:8080/"
        }
      },
      "source": [
        "cip = delete_letter(\"cipote\")\n",
        "print(cip) #Check that it doesn't return the full word (range(len(w) +1))"
      ],
      "execution_count": 10,
      "outputs": [
        {
          "output_type": "stream",
          "text": [
            "['ipote', 'cpote', 'ciote', 'cipte', 'cipoe', 'cipot']\n"
          ],
          "name": "stdout"
        }
      ]
    },
    {
      "cell_type": "markdown",
      "metadata": {
        "id": "9bhOkM1gpYcy"
      },
      "source": [
        "## Exercise 5\n",
        "Instructions for switch_letter(): Now implement a function that switches two letters in a word. It takes in a word and returns a list of all the possible switches of two letters that are adjacent to each other. It shouldn't return the original word.\n",
        "\n",
        "For example, given the word 'eta', it returns {'eat', 'tea'}, but does not return 'ate'.\n",
        "Step 1: is the same as in delete_letter()\n",
        "Step 2: A list comprehension or for loop which forms strings by swapping adjacent letters. This is of the form:\n",
        "[f(L,R) for L, R in splits if condition] where 'condition' will test the length of R in a given iteration. See below."
      ]
    },
    {
      "cell_type": "code",
      "metadata": {
        "id": "7M8GuIx8pp_2"
      },
      "source": [
        "def switch_letter(word):\n",
        "    \"\"\"\n",
        "    Get a word and produce all the combinations of two adjacent letters swapped\n",
        "    It shouldn't return the original word\n",
        "    \"\"\"\n",
        "\n",
        "    splits = [(word[:i], word[i:]) for i in range(len(word)) if (len(word[:i]) and len(word[:i])) > 0] # Same as before\n",
        "\n",
        "    swaps = [L[:-1] + R[0] + L[-1] + R[1:] for L, R in splits]\n",
        "\n",
        "    return swaps"
      ],
      "execution_count": 11,
      "outputs": []
    },
    {
      "cell_type": "code",
      "metadata": {
        "id": "h-7cLUKoqHIx",
        "outputId": "2f5a23d4-7b7d-42a5-e51b-3814bf66ad1f",
        "colab": {
          "base_uri": "https://localhost:8080/"
        }
      },
      "source": [
        "test = switch_letter(\"Cipote\")\n",
        "print(test)"
      ],
      "execution_count": 12,
      "outputs": [
        {
          "output_type": "stream",
          "text": [
            "['iCpote', 'Cpiote', 'Ciopte', 'Ciptoe', 'Cipoet']\n"
          ],
          "name": "stdout"
        }
      ]
    },
    {
      "cell_type": "markdown",
      "metadata": {
        "id": "WGyDG4vQs5Gw"
      },
      "source": [
        "### Exercise 6\n",
        "Instructions for replace_letter(): Now implement a function that takes in a word and returns a list of strings with one replaced letter from the original word.\n",
        "\n",
        "Step 1: is the same as in delete_letter()\n",
        "\n",
        "Step 2: A list comprehension or for loop which form strings by replacing letters. This can be of the form:\n",
        "[f(a,b,c) for a, b in splits if condition for c in string]\n",
        "**Note the use of the second for loop.**\n",
        "\n",
        "It is expected in this routine that one or more of the replacements will include the original word. For example, replacing the first letter of 'ear' with 'e' will return 'ear'.\n",
        "\n",
        "Step 3: Remove the original input letter from the output.\n",
        "\n",
        "* To remove a word from a list, first store its contents inside a set()\n",
        "* Use set.discard('the_word') to remove a word in a set (if the word does not exist in the set, then it will not throw a KeyError.\n",
        "* Using set.remove('the_word') throws a KeyError if the word does not exist in the set."
      ]
    },
    {
      "cell_type": "code",
      "metadata": {
        "id": "SGBQxkNstMhG"
      },
      "source": [
        "def replace_letter(word):\n",
        "    \"\"\"\n",
        "    Split, replace, and then remove the original\n",
        "    \"\"\"\n",
        "    letters = 'abcdefghijklmnopqrstuvwxyz'\n",
        "\n",
        "    splits = [(word[:i], word[i:]) for i in range(len(word))] # Same as before\n",
        "\n",
        "    replaced = [L + alph + (R[1:] if len(R) > 1 else \"\") for L, R in splits for alph in letters]\n",
        "\n",
        "    # Make replaced a set to get only uniques\n",
        "\n",
        "    replaced_set = set(replaced)\n",
        "    replaced_set.remove(word)\n",
        "    results = sorted(list(replaced_set))\n",
        "\n",
        "    return results\n",
        "\n"
      ],
      "execution_count": 13,
      "outputs": []
    },
    {
      "cell_type": "code",
      "metadata": {
        "id": "sumI68c3tgDv",
        "outputId": "1b47f96d-1a21-45bd-fea2-7419da3325e0",
        "colab": {
          "base_uri": "https://localhost:8080/"
        }
      },
      "source": [
        "a = replace_letter(\"cipote\") # Test with aa in case of doubt. It works\n",
        "print(len(a))\n"
      ],
      "execution_count": 14,
      "outputs": [
        {
          "output_type": "stream",
          "text": [
            "150\n"
          ],
          "name": "stdout"
        }
      ]
    },
    {
      "cell_type": "markdown",
      "metadata": {
        "id": "cm4Z19rywl4C"
      },
      "source": [
        "### Exercise 7\n",
        "Instructions for insert_letter(): Now implement a function that takes in a word and returns a list with a letter inserted at every offset.\n",
        "\n",
        "* Step 1: is the same as in delete_letter()\n",
        "\n",
        "* Step 2: This can be a list comprehension of the form:\n",
        "[f(a,b,c) for a, b in splits if condition for c in string]"
      ]
    },
    {
      "cell_type": "code",
      "metadata": {
        "id": "pN37uFd5wqxi"
      },
      "source": [
        "def insert_letter(word):\n",
        "\n",
        "    letters = 'abcdefghijklmnopqrstuvwxyz'\n",
        "\n",
        "    splits = [(word[:i], word[i:]) for i in range(len(word) + 1)]\n",
        "\n",
        "    inserts = [L + alph + R for L, R in splits for alph in letters]\n",
        "\n",
        "\n",
        "    return inserts\n"
      ],
      "execution_count": 15,
      "outputs": []
    },
    {
      "cell_type": "code",
      "metadata": {
        "id": "b5EWoHfEx7_1",
        "outputId": "60501c5b-cdf4-41b5-90de-9887279852f6",
        "colab": {
          "base_uri": "https://localhost:8080/"
        }
      },
      "source": [
        "a = insert_letter(\"cipote\")\n",
        "print(len(a)) # Should be 78 with input = \"at\""
      ],
      "execution_count": 16,
      "outputs": [
        {
          "output_type": "stream",
          "text": [
            "182\n"
          ],
          "name": "stdout"
        }
      ]
    },
    {
      "cell_type": "markdown",
      "metadata": {
        "id": "6dxNXFYwaGQK"
      },
      "source": [
        "# Part 3: Combining the edits\n",
        "Now that you have implemented the string manipulations, you will create two functions that, given a string, will return all the possible single and double edits on that string. These will be edit_one_letter() and edit_two_letters()."
      ]
    },
    {
      "cell_type": "markdown",
      "metadata": {
        "id": "HFL7XDmlaI_e"
      },
      "source": [
        "### 3.1 Edit one letter\n",
        "\n",
        "### Exercise 8\n",
        "Instructions: Implement the edit_one_letter function to get all the possible edits that are one edit away from a word. The edits consist of the replace, insert, delete, and optionally the switch operation. You should use the previous functions you have already implemented to complete this function. The 'switch' function is a less common edit function, so its use will be selected by an \"allow_switches\" input argument.\n",
        "\n",
        "* Note that those functions return lists while this function should return a python set. Utilizing a set eliminates any duplicate entries.\n",
        "\n",
        "* Each of the functions returns a list. You can combine lists using the `+` operator.\n",
        "* To get unique strings (avoid duplicates), you can use the set() function."
      ]
    },
    {
      "cell_type": "code",
      "metadata": {
        "id": "qB1MPPOqaRvK"
      },
      "source": [
        "def edit_one_leter(word, allow_switch = True):\n",
        "\n",
        "    deletes = delete_letter(word)\n",
        "\n",
        "    replaces = replace_letter(word)\n",
        "\n",
        "    inserts = insert_letter(word)\n",
        "\n",
        "    if allow_switch:\n",
        "        switches = switch_letter(word)\n",
        "    \n",
        "    else:\n",
        "        switches = []\n",
        "\n",
        "    outputs = deletes + replaces + inserts + switches\n",
        "\n",
        "    result = set(outputs)\n",
        "\n",
        "    return result"
      ],
      "execution_count": 17,
      "outputs": []
    },
    {
      "cell_type": "code",
      "metadata": {
        "id": "SVMgcb5AbeJS",
        "outputId": "a0255fe5-0e47-4040-e795-1e1970084b99",
        "colab": {
          "base_uri": "https://localhost:8080/"
        }
      },
      "source": [
        "test = edit_one_leter(\"cipote\") # at gives len = 129 as expected\n",
        "\n",
        "print(len(test))"
      ],
      "execution_count": 18,
      "outputs": [
        {
          "output_type": "stream",
          "text": [
            "337\n"
          ],
          "name": "stdout"
        }
      ]
    },
    {
      "cell_type": "markdown",
      "metadata": {
        "id": "i_mhLYa5cGd1"
      },
      "source": [
        "# Part 3.2 Edit two letters\n",
        "\n",
        "### Exercise 9\n",
        "Now you can generalize this to implement to get two edits on a word. To do so, you would have to get all the possible edits on a single word and then for each modified word, you would have to modify it again.\n",
        "\n",
        "**Instructions:** Implement the edit_two_letters function that returns a set of words that are two edits away. Note that creating additional edits based on the edit_one_letter function may 'restore' some one_edits to zero or one edits. That is allowed here. This accounted for in get_corrections.\n",
        "\n",
        "* You will likely want to take the union of two sets.\n",
        "* You can either use set.union() or use the '|' (or operator) to union two sets\n",
        "* See the documentation Python sets for examples of using operators or functions of the Python set."
      ]
    },
    {
      "cell_type": "code",
      "metadata": {
        "id": "jcVFltmXbzNt"
      },
      "source": [
        "def edit_two_letters(word, allow_switch = True):\n",
        "\n",
        "    second_edits_set = set()\n",
        "    ed_one = edit_one_leter(word)\n",
        "\n",
        "    # second_edits = [edit_one_leter(w) for w in ed_one if w]\n",
        "\n",
        "    for w in ed_one:\n",
        "\n",
        "        if w:\n",
        "            second_edits = edit_one_leter(w)\n",
        "            second_edits_set.update(second_edits)\n",
        "\n",
        "    # result = set(second_edits)\n",
        "\n",
        "    return second_edits_set"
      ],
      "execution_count": 19,
      "outputs": []
    },
    {
      "cell_type": "code",
      "metadata": {
        "id": "NhqDJzs-cxvN",
        "outputId": "4ac1182a-0858-4314-f402-82b587d49f7b",
        "colab": {
          "base_uri": "https://localhost:8080/"
        }
      },
      "source": [
        "test = edit_two_letters(\"cipote\") # \"a\" produces 2564\n",
        "\n",
        "print(len(test))"
      ],
      "execution_count": 20,
      "outputs": [
        {
          "output_type": "stream",
          "text": [
            "52170\n"
          ],
          "name": "stdout"
        }
      ]
    },
    {
      "cell_type": "markdown",
      "metadata": {
        "id": "JRQuDtpufTRB"
      },
      "source": [
        "##Part 3-3: suggest spelling suggestions\n",
        "Now you will use your edit_two_letters function to get a set of all the possible 2 edits on your word. You will then use those strings to get the most probable word you meant to type aka your typing suggestion.\n",
        "\n",
        "\n",
        "### Exercise 10\n",
        "Instructions: Implement get_corrections, which returns a list of zero to n possible suggestion tuples of the form (word, probability_of_word).\n",
        "\n",
        "### Step 1: Generate suggestions for a supplied word: You'll use the edit functions you have developed. The 'suggestion algorithm' should follow this logic:\n",
        "\n",
        "If the word is in the vocabulary, suggest the word.\n",
        "Otherwise, if there are suggestions from edit_one_letter that are in the vocabulary, use those.\n",
        "Otherwise, if there are suggestions from edit_two_letters that are in the vocabulary, use those.\n",
        "Otherwise, suggest the input word.*\n",
        "The idea is that words generated from fewer edits are more likely than words with more edits.\n",
        "Note:\n",
        "\n",
        "Edits of one or two letters may 'restore' strings to either zero or one edit. This algorithm accounts for this by preferentially selecting lower distance edits first."
      ]
    },
    {
      "cell_type": "code",
      "metadata": {
        "id": "5uXL48difZa7"
      },
      "source": [
        "def get_corrections(word, probs, vocab, n):\n",
        "    \"\"\"\n",
        "    Input: \n",
        "        word: a user entered string to check for suggestions\n",
        "        probs: a dictionary that maps each word to its probability in the corpus\n",
        "        vocab: a set containing all the vocabulary\n",
        "        n: number of possible word corrections you want returned in the dictionary\n",
        "    Output: \n",
        "        n_best: a list of tuples with the most probable n corrected words and their probabilities.\n",
        "    \n",
        "    \"\"\"\n",
        "\n",
        "    suggestions = []\n",
        "    n_best = []\n",
        "\n",
        "    suggestions = list((word in vocab and word) or edit_one_leter(word).intersection(vocab) or edit_two_letters(word).intersection(vocab))\n",
        "\n",
        "    n_best = [[s, probs[s]] for s in list(reversed(suggestions))]\n",
        "    n_best = n_best[:n]\n",
        "\n",
        "    return n_best"
      ],
      "execution_count": 21,
      "outputs": []
    },
    {
      "cell_type": "code",
      "metadata": {
        "id": "0slA4lJigcAy",
        "outputId": "9e1c9169-1253-4537-c8f1-19d578543745",
        "colab": {
          "base_uri": "https://localhost:8080/"
        }
      },
      "source": [
        "test = get_corrections(\"cipot\", probs, vocab, 13)\n",
        "print(test)"
      ],
      "execution_count": 22,
      "outputs": [
        {
          "output_type": "stream",
          "text": [
            "[['pilot', 1.865184466743761e-05], ['spot', 1.865184466743761e-05], ['chopt', 1.865184466743761e-05], ['capet', 5.595553400231283e-05], ['riot', 1.865184466743761e-05]]\n"
          ],
          "name": "stdout"
        }
      ]
    },
    {
      "cell_type": "markdown",
      "metadata": {
        "id": "dg7kvG1smw3H"
      },
      "source": [
        "#Part 4: Minimum Edit distance\n",
        "Now that you have implemented your auto-correct, how do you evaluate the similarity between two strings? For example: 'waht' and 'what'\n",
        "\n",
        "Also how do you efficiently find the shortest path to go from the word, 'waht' to the word 'what'?\n",
        "\n",
        "You will implement a dynamic programming system that will tell you the minimum number of edits required to convert a string into another string."
      ]
    },
    {
      "cell_type": "markdown",
      "metadata": {
        "id": "f9BQ_deEqB-j"
      },
      "source": [
        "## Part 4.1 Dynamic Programming\n",
        "\n",
        "# It's the same algorithm as the hydraulic power plants. Unit commitment I think it was called. Damn GAMS strikes again.\n",
        "\n",
        "Dynamic Programming breaks a problem down into subproblems which can be combined to form the final solution. Here, given a string source[0..i] and a string target[0..j], we will compute all the combinations of substrings[i, j] and calculate their edit distance. To do this efficiently, we will use a table to maintain the previously computed substrings and use those to calculate larger substrings.\n",
        "\n",
        "You have to create a matrix and update each element in the matrix as follows:"
      ]
    },
    {
      "cell_type": "markdown",
      "metadata": {
        "id": "9v9DHWIEqIVH"
      },
      "source": [
        "$$\\text{Initialization}$$\n",
        "\n",
        "\\begin{align}\n",
        "D[0,0] &= 0 \\\\\n",
        "D[i,0] &= D[i-1,0] + del\\_cost(source[i]) \\tag{4}\\\\\n",
        "D[0,j] &= D[0,j-1] + ins\\_cost(target[j]) \\\\\n",
        "\\end{align}"
      ]
    },
    {
      "cell_type": "markdown",
      "metadata": {
        "id": "H4-9fJ59qNEe"
      },
      "source": [
        "\n",
        "$$\\text{Per Cell Operations}$$\n",
        "\\begin{align}\n",
        " \\\\\n",
        "D[i,j] =min\n",
        "\\begin{cases}\n",
        "D[i-1,j] + del\\_cost\\\\\n",
        "D[i,j-1] + ins\\_cost\\\\\n",
        "D[i-1,j-1] + \\left\\{\\begin{matrix}\n",
        "rep\\_cost; & if src[i]\\neq tar[j]\\\\\n",
        "0 ; & if src[i]=tar[j]\n",
        "\\end{matrix}\\right.\n",
        "\\end{cases}\n",
        "\\tag{5}\n",
        "\\end{align}"
      ]
    },
    {
      "cell_type": "markdown",
      "metadata": {
        "id": "DVF-H1rbqRCu"
      },
      "source": [
        "So converting the source word **play** to the target word **stay**, using an input cost of one, a delete cost of 1, and replace cost of 2 would give you the following table:\n",
        "<table style=\"width:20%\">\n",
        "\n",
        "  <tr>\n",
        "    <td> <b> </b>  </td>\n",
        "    <td> <b># </b>  </td>\n",
        "    <td> <b>s </b>  </td>\n",
        "    <td> <b>t </b> </td> \n",
        "    <td> <b>a </b> </td> \n",
        "    <td> <b>y </b> </td> \n",
        "  </tr>\n",
        "   <tr>\n",
        "    <td> <b>  #  </b></td>\n",
        "    <td> 0</td> \n",
        "    <td> 1</td> \n",
        "    <td> 2</td> \n",
        "    <td> 3</td> \n",
        "    <td> 4</td> \n",
        " \n",
        "  </tr>\n",
        "  <tr>\n",
        "    <td> <b>  p  </b></td>\n",
        "    <td> 1</td> \n",
        " <td> 2</td> \n",
        "    <td> 3</td> \n",
        "    <td> 4</td> \n",
        "   <td> 5</td>\n",
        "  </tr>\n",
        "   \n",
        "  <tr>\n",
        "    <td> <b> l </b></td>\n",
        "    <td>2</td> \n",
        "    <td>3</td> \n",
        "    <td>4</td> \n",
        "    <td>5</td> \n",
        "    <td>6</td>\n",
        "  </tr>\n",
        "\n",
        "  <tr>\n",
        "    <td> <b> a </b></td>\n",
        "    <td>3</td> \n",
        "     <td>4</td> \n",
        "     <td>5</td> \n",
        "     <td>4</td>\n",
        "     <td>5</td> \n",
        "  </tr>\n",
        "  \n",
        "   <tr>\n",
        "    <td> <b> y </b></td>\n",
        "    <td>4</td> \n",
        "      <td>5</td> \n",
        "     <td>6</td> \n",
        "     <td>5</td>\n",
        "     <td>4</td> \n",
        "  </tr>\n",
        "  \n",
        "\n",
        "</table>\n"
      ]
    },
    {
      "cell_type": "code",
      "metadata": {
        "id": "G8k5DI5srq2I"
      },
      "source": [
        ""
      ],
      "execution_count": null,
      "outputs": []
    },
    {
      "cell_type": "code",
      "metadata": {
        "id": "5wBccSZLrsdH"
      },
      "source": [
        "def min_edit_distance(source, target, ins_cost = 1, del_cost = 1, rep_cost = 2):\n",
        "    '''\n",
        "    Input: \n",
        "        source: a string corresponding to the string you are starting with\n",
        "        target: a string corresponding to the string you want to end with\n",
        "        ins_cost: an integer setting the insert cost\n",
        "        del_cost: an integer setting the delete cost\n",
        "        rep_cost: an integer setting the replace cost\n",
        "    Output:\n",
        "        D: a matrix of len(source)+1 by len(target)+1 containing minimum edit distances\n",
        "        med: the minimum edit distance (med) required to convert the source string to the target\n",
        "    '''\n",
        "\n",
        "    m = len(source)\n",
        "    n = len(target)\n",
        "\n",
        "    # Initialize cost matrix with 0's and dimensions\n",
        "\n",
        "    CM = np.zeros((m+1, n+1), dtype = int)\n",
        "\n",
        "    # Fill in column 0 from row 1 to m (row 0 is already 0)\n",
        "\n",
        "    for row in range(1, m + 1):\n",
        "        CM[row, 0] = CM[row-1, 0] + del_cost\n",
        "\n",
        "    # Now fill in the first column, from 1 to n\n",
        "\n",
        "    for col in range(1, n + 1):\n",
        "        CM[0, col] = CM[0, col-1] + ins_cost\n",
        "\n",
        "    # Now loop through the elements to compute the replace cost.\n",
        "\n",
        "    r_cost = rep_cost\n",
        "\n",
        "    for row in range(1, m+1):\n",
        "\n",
        "        for col in range(1, n + 1):\n",
        "            r_cost = rep_cost\n",
        "\n",
        "            if source[row-1] == target[col-1]:\n",
        "                r_cost = 0\n",
        "\n",
        "            # Update the cost at row, col based on previous entries in the cost matrix\n",
        "            # Refer to the equation calculate for D[i,j] (the minimum of three calculated costs)\n",
        "\n",
        "            CM[row, col] = min(CM[row-1, col] + del_cost, CM[row, col-1] + ins_cost, CM[row-1, col-1] + r_cost)\n",
        "\n",
        "    MED = CM[m, n]\n",
        "\n",
        "    return CM, MED\n",
        "\n",
        "\n"
      ],
      "execution_count": 23,
      "outputs": []
    },
    {
      "cell_type": "code",
      "metadata": {
        "id": "FoY4it1Xvasv",
        "outputId": "5533536d-1b1d-44f8-c081-dd27972dc6cd",
        "colab": {
          "base_uri": "https://localhost:8080/"
        }
      },
      "source": [
        "source = \"play\"\n",
        "target = \"cipote\" #\"stay\"\n",
        "\n",
        "matrix, MED = min_edit_distance(source, target)\n",
        "\n",
        "print(\"Minimum edit distance:\", MED)\n",
        "\n",
        "idx = list(\"#\" + source)\n",
        "cols = list(\"#\" + target)\n",
        "\n",
        "df = pd.DataFrame(matrix, index = idx, columns = cols)\n",
        "\n",
        "print(df)"
      ],
      "execution_count": 26,
      "outputs": [
        {
          "output_type": "stream",
          "text": [
            "Minimum edit distance: 8\n",
            "   #  c  i  p  o  t  e\n",
            "#  0  1  2  3  4  5  6\n",
            "p  1  2  3  2  3  4  5\n",
            "l  2  3  4  3  4  5  6\n",
            "a  3  4  5  4  5  6  7\n",
            "y  4  5  6  5  6  7  8\n"
          ],
          "name": "stdout"
        }
      ]
    }
  ]
}