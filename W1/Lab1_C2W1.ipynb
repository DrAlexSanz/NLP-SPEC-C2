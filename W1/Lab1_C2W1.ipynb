{
  "nbformat": 4,
  "nbformat_minor": 0,
  "metadata": {
    "colab": {
      "name": "Lab1_C2W1.ipynb",
      "provenance": [],
      "collapsed_sections": [],
      "authorship_tag": "ABX9TyNrzxZFDVql8U4PGJJmzArl",
      "include_colab_link": true
    },
    "kernelspec": {
      "name": "python3",
      "display_name": "Python 3"
    }
  },
  "cells": [
    {
      "cell_type": "markdown",
      "metadata": {
        "id": "view-in-github",
        "colab_type": "text"
      },
      "source": [
        "<a href=\"https://colab.research.google.com/github/DrAlexSanz/NLP-SPEC-C2/blob/master/W1/Lab1_C2W1.ipynb\" target=\"_parent\"><img src=\"https://colab.research.google.com/assets/colab-badge.svg\" alt=\"Open In Colab\"/></a>"
      ]
    },
    {
      "cell_type": "code",
      "metadata": {
        "id": "VCK0_HSP99O6"
      },
      "source": [
        "# Data\n",
        "word = \"dearz\"\n",
        "word_2 = \"cipote\""
      ],
      "execution_count": 1,
      "outputs": []
    },
    {
      "cell_type": "code",
      "metadata": {
        "id": "FyszoI0nEpby",
        "outputId": "fd200b2d-d960-4aae-8612-3e18b9c0f3b8",
        "colab": {
          "base_uri": "https://localhost:8080/",
          "height": 34
        }
      },
      "source": [
        "# Find the different splits of a word\n",
        "# C ipote, Ci pote... I will consider leaving the whole world in the first/second half as a good answer.\n",
        "\n",
        "splits = []\n",
        "\n",
        "for c in range(len(word_2) + 1):\n",
        "    splits.append((word_2[:c], word_2[c:])) # Closed-open interval\n",
        "\n",
        "print(splits)"
      ],
      "execution_count": 6,
      "outputs": [
        {
          "output_type": "stream",
          "text": [
            "[('', 'cipote'), ('c', 'ipote'), ('ci', 'pote'), ('cip', 'ote'), ('cipo', 'te'), ('cipot', 'e'), ('cipote', '')]\n"
          ],
          "name": "stdout"
        }
      ]
    },
    {
      "cell_type": "code",
      "metadata": {
        "id": "0lKmQ2DpFz6f",
        "outputId": "c0282c03-2020-46dc-ee6e-229de99b7b0d",
        "colab": {
          "base_uri": "https://localhost:8080/",
          "height": 34
        }
      },
      "source": [
        "# Same story with a list comprehension\n",
        "\n",
        "spl = [(word_2[:c], word_2[c:]) for c in range(len(word_2) + 1)]\n",
        "\n",
        "print(spl)"
      ],
      "execution_count": 7,
      "outputs": [
        {
          "output_type": "stream",
          "text": [
            "[('', 'cipote'), ('c', 'ipote'), ('ci', 'pote'), ('cip', 'ote'), ('cipo', 'te'), ('cipot', 'e'), ('cipote', '')]\n"
          ],
          "name": "stdout"
        }
      ]
    },
    {
      "cell_type": "markdown",
      "metadata": {
        "id": "KwmPCgFbHvlu"
      },
      "source": [
        "To delete a word it's enough to slice the string (vector)"
      ]
    },
    {
      "cell_type": "code",
      "metadata": {
        "id": "0QunORzTH1gH",
        "outputId": "3c5041c3-aaff-401c-86b9-745ce230300d",
        "colab": {
          "base_uri": "https://localhost:8080/",
          "height": 51
        }
      },
      "source": [
        "deletes = []\n",
        "\n",
        "print(\"word:\", word_2)\n",
        "\n",
        "for L, R in splits:\n",
        "    if R:\n",
        "        deletes.append(L + R[1:]) # R[0:] is all of the characters, it's like saying R\n",
        "\n",
        "print(deletes)"
      ],
      "execution_count": 9,
      "outputs": [
        {
          "output_type": "stream",
          "text": [
            "word: cipote\n",
            "['ipote', 'cpote', 'ciote', 'cipte', 'cipoe', 'cipot']\n"
          ],
          "name": "stdout"
        }
      ]
    },
    {
      "cell_type": "code",
      "metadata": {
        "id": "Q5CphukTIi61",
        "outputId": "cc1f91c2-3b08-43c3-be30-b737ee5e9a49",
        "colab": {
          "base_uri": "https://localhost:8080/",
          "height": 34
        }
      },
      "source": [
        "# Same story with a list comprehension\n",
        "\n",
        "dlt = [L + R[1:] for L, R in splits]\n",
        "\n",
        "print(dlt)"
      ],
      "execution_count": 10,
      "outputs": [
        {
          "output_type": "stream",
          "text": [
            "['ipote', 'cpote', 'ciote', 'cipte', 'cipoe', 'cipot', 'cipote']\n"
          ],
          "name": "stdout"
        }
      ]
    }
  ]
}