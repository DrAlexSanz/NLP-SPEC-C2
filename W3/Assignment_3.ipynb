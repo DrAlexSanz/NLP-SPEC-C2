{
  "nbformat": 4,
  "nbformat_minor": 0,
  "metadata": {
    "colab": {
      "name": "Untitled0.ipynb",
      "provenance": [],
      "authorship_tag": "ABX9TyNiiROe/PRwo9/s4OjGCKwv",
      "include_colab_link": true
    },
    "kernelspec": {
      "name": "python3",
      "display_name": "Python 3"
    }
  },
  "cells": [
    {
      "cell_type": "markdown",
      "metadata": {
        "id": "view-in-github",
        "colab_type": "text"
      },
      "source": [
        "<a href=\"https://colab.research.google.com/github/DrAlexSanz/NLP-SPEC-C2/blob/master/W3/Assignment_3.ipynb\" target=\"_parent\"><img src=\"https://colab.research.google.com/assets/colab-badge.svg\" alt=\"Open In Colab\"/></a>"
      ]
    },
    {
      "cell_type": "markdown",
      "metadata": {
        "id": "YOXGYc6uXpTu"
      },
      "source": [
        "# Language Models: Auto-Complete\n",
        "In this assignment, you will build an auto-complete system. Auto-complete system is something you may see every day\n",
        "\n",
        "When you google something, you often have suggestions to help you complete your search.\n",
        "When you are writing an email, you get suggestions telling you possible endings to your sentence.\n",
        "By the end of this assignment, you will develop a prototype of such a system.\n",
        "\n",
        "A key building block for an auto-complete system is a language model. A language model assigns the probability to a sequence of words, in a way that more \"likely\" sequences receive higher scores. For example,\n",
        "\n",
        "* \"I have a pen\" is expected to have a higher probability than \"I am a pen\" since the first one seems to be a more natural sentence in the real world.\n",
        "\n",
        "You can take advantage of this probability calculation to develop an auto-complete system.\n",
        "Suppose the user typed\n",
        "\n",
        "* \"I eat scrambled\" Then you can find a word x such that \"I eat scrambled x\" receives the highest probability. If x = \"eggs\", the sentence would be \"I eat scrambled eggs\"\n",
        "\n",
        "While a variety of language models have been developed, this assignment uses N-grams, a simple but powerful method for language modeling.\n",
        "\n",
        "* N-grams are also used in machine translation and speech recognition.\n",
        "Here are the steps of this assignment:\n",
        "\n",
        "1. Load and preprocess data\n",
        "2. Load and tokenize data.\n",
        "3. Split the sentences into train and test sets.\n",
        "4. Replace words with a low frequency by an unknown marker <unk>.\n",
        "5. Develop N-gram based language models\n",
        "  * Compute the count of n-grams from a given data set.\n",
        "  * Estimate the conditional probability of a next word with k-smoothing.\n",
        "6. Evaluate the N-gram models by computing the perplexity score.\n",
        "7. Use your own model to suggest an upcoming word given your sentence."
      ]
    },
    {
      "cell_type": "code",
      "metadata": {
        "id": "KLaNjwIKXobG",
        "outputId": "916967b0-da63-4389-8e09-2ab6083ce7c6",
        "colab": {
          "base_uri": "https://localhost:8080/",
          "height": 204
        }
      },
      "source": [
        "import math\n",
        "import random\n",
        "import numpy as np\n",
        "import pandas as pd\n",
        "import nltk\n",
        "nltk.data.path.append('.')\n",
        "\n",
        "!wget https://raw.githubusercontent.com/DrAlexSanz/NLP-SPEC-C2/master/W3/en_US.twitter.txt"
      ],
      "execution_count": 3,
      "outputs": [
        {
          "output_type": "stream",
          "text": [
            "--2020-10-20 09:40:06--  https://raw.githubusercontent.com/DrAlexSanz/NLP-SPEC-C2/master/W3/en_US.twitter.txt\n",
            "Resolving raw.githubusercontent.com (raw.githubusercontent.com)... 151.101.0.133, 151.101.64.133, 151.101.128.133, ...\n",
            "Connecting to raw.githubusercontent.com (raw.githubusercontent.com)|151.101.0.133|:443... connected.\n",
            "HTTP request sent, awaiting response... 200 OK\n",
            "Length: 3341555 (3.2M) [text/plain]\n",
            "Saving to: ‘en_US.twitter.txt’\n",
            "\n",
            "en_US.twitter.txt   100%[===================>]   3.19M  --.-KB/s    in 0.1s    \n",
            "\n",
            "2020-10-20 09:40:06 (25.2 MB/s) - ‘en_US.twitter.txt’ saved [3341555/3341555]\n",
            "\n"
          ],
          "name": "stdout"
        }
      ]
    },
    {
      "cell_type": "code",
      "metadata": {
        "id": "JHUfo3QPYLUn",
        "outputId": "65606693-b088-4aec-b734-397ff925aa85",
        "colab": {
          "base_uri": "https://localhost:8080/",
          "height": 223
        }
      },
      "source": [
        "with open(\"en_US.twitter.txt\", \"r\") as f:\n",
        "    data = f.read()\n",
        "print(\"Data type:\", type(data))\n",
        "print(\"Number of letters:\", len(data))\n",
        "print(\"First 300 letters of the data\")\n",
        "print(\"-------\")\n",
        "display(data[0:300])\n",
        "print(\"-------\")\n",
        "\n",
        "print(\"Last 300 letters of the data\")\n",
        "print(\"-------\")\n",
        "display(data[-300:])\n",
        "print(\"-------\")"
      ],
      "execution_count": 4,
      "outputs": [
        {
          "output_type": "stream",
          "text": [
            "Data type: <class 'str'>\n",
            "Number of letters: 3335477\n",
            "First 300 letters of the data\n",
            "-------\n"
          ],
          "name": "stdout"
        },
        {
          "output_type": "display_data",
          "data": {
            "application/vnd.google.colaboratory.intrinsic+json": {
              "type": "string"
            },
            "text/plain": [
              "\"How are you? Btw thanks for the RT. You gonna be in DC anytime soon? Love to see you. Been way, way too long.\\nWhen you meet someone special... you'll know. Your heart will beat more rapidly and you'll smile for no reason.\\nthey've decided its more fun if I don't.\\nSo Tired D; Played Lazer Tag & Ran A \""
            ]
          },
          "metadata": {
            "tags": []
          }
        },
        {
          "output_type": "stream",
          "text": [
            "-------\n",
            "Last 300 letters of the data\n",
            "-------\n"
          ],
          "name": "stdout"
        },
        {
          "output_type": "display_data",
          "data": {
            "application/vnd.google.colaboratory.intrinsic+json": {
              "type": "string"
            },
            "text/plain": [
              "\"ust had one a few weeks back....hopefully we will be back soon! wish you the best yo\\nColombia is with an 'o'...“: We now ship to 4 countries in South America (fist pump). Please welcome Columbia to the Stunner Family”\\n#GutsiestMovesYouCanMake Giving a cat a bath.\\nCoffee after 5 was a TERRIBLE idea.\\n\""
            ]
          },
          "metadata": {
            "tags": []
          }
        },
        {
          "output_type": "stream",
          "text": [
            "-------\n"
          ],
          "name": "stdout"
        }
      ]
    }
  ]
}