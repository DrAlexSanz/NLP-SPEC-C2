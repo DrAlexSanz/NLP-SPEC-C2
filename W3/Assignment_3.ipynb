{
  "nbformat": 4,
  "nbformat_minor": 0,
  "metadata": {
    "colab": {
      "name": "Copy of Untitled0.ipynb",
      "provenance": [],
      "collapsed_sections": [],
      "include_colab_link": true
    },
    "kernelspec": {
      "name": "python3",
      "display_name": "Python 3"
    }
  },
  "cells": [
    {
      "cell_type": "markdown",
      "metadata": {
        "id": "view-in-github",
        "colab_type": "text"
      },
      "source": [
        "<a href=\"https://colab.research.google.com/github/DrAlexSanz/NLP-SPEC-C2/blob/master/W3/Assignment_3.ipynb\" target=\"_parent\"><img src=\"https://colab.research.google.com/assets/colab-badge.svg\" alt=\"Open In Colab\"/></a>"
      ]
    },
    {
      "cell_type": "markdown",
      "metadata": {
        "id": "YOXGYc6uXpTu"
      },
      "source": [
        "# Language Models: Auto-Complete\n",
        "In this assignment, you will build an auto-complete system. Auto-complete system is something you may see every day\n",
        "\n",
        "When you google something, you often have suggestions to help you complete your search.\n",
        "When you are writing an email, you get suggestions telling you possible endings to your sentence.\n",
        "By the end of this assignment, you will develop a prototype of such a system.\n",
        "\n",
        "A key building block for an auto-complete system is a language model. A language model assigns the probability to a sequence of words, in a way that more \"likely\" sequences receive higher scores. For example,\n",
        "\n",
        "* \"I have a pen\" is expected to have a higher probability than \"I am a pen\" since the first one seems to be a more natural sentence in the real world.\n",
        "\n",
        "You can take advantage of this probability calculation to develop an auto-complete system.\n",
        "Suppose the user typed\n",
        "\n",
        "* \"I eat scrambled\" Then you can find a word x such that \"I eat scrambled x\" receives the highest probability. If x = \"eggs\", the sentence would be \"I eat scrambled eggs\"\n",
        "\n",
        "While a variety of language models have been developed, this assignment uses N-grams, a simple but powerful method for language modeling.\n",
        "\n",
        "* N-grams are also used in machine translation and speech recognition.\n",
        "Here are the steps of this assignment:\n",
        "\n",
        "1. Load and preprocess data\n",
        "2. Load and tokenize data.\n",
        "3. Split the sentences into train and test sets.\n",
        "4. Replace words with a low frequency by an unknown marker <unk>.\n",
        "5. Develop N-gram based language models\n",
        "  * Compute the count of n-grams from a given data set.\n",
        "  * Estimate the conditional probability of a next word with k-smoothing.\n",
        "6. Evaluate the N-gram models by computing the perplexity score.\n",
        "7. Use your own model to suggest an upcoming word given your sentence."
      ]
    },
    {
      "cell_type": "code",
      "metadata": {
        "id": "KLaNjwIKXobG",
        "outputId": "d1d490cc-872d-4f78-defa-89439d43db4f",
        "colab": {
          "base_uri": "https://localhost:8080/",
          "height": 238
        }
      },
      "source": [
        "import math\n",
        "import random\n",
        "import numpy as np\n",
        "import pandas as pd\n",
        "import nltk\n",
        "nltk.download('punkt')\n",
        "nltk.data.path.append('.')\n",
        "\n",
        "!wget https://raw.githubusercontent.com/DrAlexSanz/NLP-SPEC-C2/master/W3/en_US.twitter.txt"
      ],
      "execution_count": 10,
      "outputs": [
        {
          "output_type": "stream",
          "text": [
            "[nltk_data] Downloading package punkt to /root/nltk_data...\n",
            "[nltk_data]   Unzipping tokenizers/punkt.zip.\n",
            "--2020-10-22 06:17:22--  https://raw.githubusercontent.com/DrAlexSanz/NLP-SPEC-C2/master/W3/en_US.twitter.txt\n",
            "Resolving raw.githubusercontent.com (raw.githubusercontent.com)... 151.101.0.133, 151.101.64.133, 151.101.128.133, ...\n",
            "Connecting to raw.githubusercontent.com (raw.githubusercontent.com)|151.101.0.133|:443... connected.\n",
            "HTTP request sent, awaiting response... 200 OK\n",
            "Length: 3341555 (3.2M) [text/plain]\n",
            "Saving to: ‘en_US.twitter.txt.1’\n",
            "\n",
            "en_US.twitter.txt.1 100%[===================>]   3.19M  --.-KB/s    in 0.09s   \n",
            "\n",
            "2020-10-22 06:17:22 (33.9 MB/s) - ‘en_US.twitter.txt.1’ saved [3341555/3341555]\n",
            "\n"
          ],
          "name": "stdout"
        }
      ]
    },
    {
      "cell_type": "code",
      "metadata": {
        "id": "JHUfo3QPYLUn",
        "outputId": "686d4ad2-f5f6-475a-889d-7cf39101721b",
        "colab": {
          "base_uri": "https://localhost:8080/",
          "height": 223
        }
      },
      "source": [
        "with open(\"en_US.twitter.txt\", \"r\") as f:\n",
        "    data = f.read()\n",
        "print(\"Data type:\", type(data))\n",
        "print(\"Number of letters:\", len(data))\n",
        "print(\"First 300 letters of the data\")\n",
        "print(\"-------\")\n",
        "display(data[0:300])\n",
        "print(\"-------\")\n",
        "\n",
        "print(\"Last 300 letters of the data\")\n",
        "print(\"-------\")\n",
        "display(data[-300:])\n",
        "print(\"-------\")"
      ],
      "execution_count": 2,
      "outputs": [
        {
          "output_type": "stream",
          "text": [
            "Data type: <class 'str'>\n",
            "Number of letters: 3335477\n",
            "First 300 letters of the data\n",
            "-------\n"
          ],
          "name": "stdout"
        },
        {
          "output_type": "display_data",
          "data": {
            "application/vnd.google.colaboratory.intrinsic+json": {
              "type": "string"
            },
            "text/plain": [
              "\"How are you? Btw thanks for the RT. You gonna be in DC anytime soon? Love to see you. Been way, way too long.\\nWhen you meet someone special... you'll know. Your heart will beat more rapidly and you'll smile for no reason.\\nthey've decided its more fun if I don't.\\nSo Tired D; Played Lazer Tag & Ran A \""
            ]
          },
          "metadata": {
            "tags": []
          }
        },
        {
          "output_type": "stream",
          "text": [
            "-------\n",
            "Last 300 letters of the data\n",
            "-------\n"
          ],
          "name": "stdout"
        },
        {
          "output_type": "display_data",
          "data": {
            "application/vnd.google.colaboratory.intrinsic+json": {
              "type": "string"
            },
            "text/plain": [
              "\"ust had one a few weeks back....hopefully we will be back soon! wish you the best yo\\nColombia is with an 'o'...“: We now ship to 4 countries in South America (fist pump). Please welcome Columbia to the Stunner Family”\\n#GutsiestMovesYouCanMake Giving a cat a bath.\\nCoffee after 5 was a TERRIBLE idea.\\n\""
            ]
          },
          "metadata": {
            "tags": []
          }
        },
        {
          "output_type": "stream",
          "text": [
            "-------\n"
          ],
          "name": "stdout"
        }
      ]
    },
    {
      "cell_type": "markdown",
      "metadata": {
        "id": "b1vm0cFo4niu"
      },
      "source": [
        "## Part 1.2 Pre-process the data\n",
        "Preprocess this data with the following steps:\n",
        "\n",
        "1. Split data into sentences using \"\\n\" as the delimiter.\n",
        "2. Split each sentence into tokens. Note that in this assignment we use \"token\" and \"words\" interchangeably.\n",
        "3. Assign sentences into train or test sets.\n",
        "4. Find tokens that appear at least N times in the training data.\n",
        "5. Replace tokens that appear less than N times by <unk>\n",
        "\n",
        "**Note: we omit validation data in this exercise.**\n",
        "\n",
        "In real applications, we should hold a part of data as a validation set and use it to tune our training.\n",
        "We skip this process for simplicity."
      ]
    },
    {
      "cell_type": "markdown",
      "metadata": {
        "id": "13vXjN8z4zta"
      },
      "source": [
        "## Exercise 01\n",
        "Split data into sentences."
      ]
    },
    {
      "cell_type": "code",
      "metadata": {
        "id": "lzLO_APa4w_z"
      },
      "source": [
        "def split_to_sentences(data):\n",
        "    \"\"\"\n",
        "    Take the full corpus and split into sentences.\n",
        "    Input:\n",
        "    data: a str that I read from the file\n",
        "    Output:\n",
        "    List of sentences    \n",
        "    \"\"\"\n",
        "    sent = data.split(\"\\n\")\n",
        "\n",
        "    # Remove leading and trailing spaces\n",
        "\n",
        "    sent = [s.strip() for s in sent]\n",
        "\n",
        "    # Remove empty sentences\n",
        "\n",
        "    sent = [s for s in sent if len(s) > 0]\n",
        "\n",
        "    return sent"
      ],
      "execution_count": 3,
      "outputs": []
    },
    {
      "cell_type": "code",
      "metadata": {
        "id": "kUcpze5M5pwT",
        "outputId": "24a495ca-197c-4205-bf1b-cdc1d80a8b12",
        "colab": {
          "base_uri": "https://localhost:8080/",
          "height": 34
        }
      },
      "source": [
        "# Test\n",
        "\n",
        "X = \"\"\"\n",
        "I have a pen.\\nI have an apple. \\nAh\\nApple pen.\\n\n",
        "\"\"\"\n",
        "\n",
        "y = split_to_sentences(X)\n",
        "\n",
        "print(y)"
      ],
      "execution_count": 4,
      "outputs": [
        {
          "output_type": "stream",
          "text": [
            "['I have a pen.', 'I have an apple.', 'Ah', 'Apple pen.']\n"
          ],
          "name": "stdout"
        }
      ]
    },
    {
      "cell_type": "markdown",
      "metadata": {
        "id": "exNLro5y6GU4"
      },
      "source": [
        "## Exercise 02\n",
        "The next step is to tokenize sentences (split a sentence into a list of words).\n",
        "\n",
        "* Convert all tokens into lower case so that words which are capitalized (for example, at the start of a sentence) in the original text are treated the same as the lowercase versions of the words.\n",
        "* Append each tokenized list of words into a list of tokenized sentences.\n",
        "* Use str.lower to convert strings to lowercase.\n",
        "* Please use nltk.word_tokenize to split sentences into tokens.\n",
        "* If you used str.split instead of nltk.word_tokenize, there are additional edge cases to handle, such as the punctuation (comma, period) that follows a word."
      ]
    },
    {
      "cell_type": "code",
      "metadata": {
        "id": "YtPRTQZ96OMi"
      },
      "source": [
        "def tokenize_sentences(sentences):\n",
        "    \"\"\"\n",
        "    Take the previously split sentences to tokenize them\n",
        "    Input: List of sentences output from the first function\n",
        "    Output: List of list of tokens    \n",
        "    \"\"\"\n",
        "\n",
        "    # Make everything lowercase\n",
        "    # tokenize each word\n",
        "\n",
        "    tok_sent = []\n",
        "\n",
        "    for sent in sentences:\n",
        "        sent = sent.lower()\n",
        "        tokenized = nltk.word_tokenize(sent)\n",
        "        tok_sent.append(tokenized)\n",
        "\n",
        "    return tok_sent\n",
        "\n"
      ],
      "execution_count": 18,
      "outputs": []
    },
    {
      "cell_type": "code",
      "metadata": {
        "id": "GqFc1xqk81L5",
        "outputId": "56a025d8-6aea-4e58-d3d6-9b268b718a3d",
        "colab": {
          "base_uri": "https://localhost:8080/",
          "height": 34
        }
      },
      "source": [
        "# Test\n",
        "\n",
        "sentences = [\"Sky is blue.\", \"Leaves are green.\", \"Roses are red.\"]\n",
        "\n",
        "tok_test = tokenize_sentences(sentences)\n",
        "\n",
        "print(tok_test)"
      ],
      "execution_count": 19,
      "outputs": [
        {
          "output_type": "stream",
          "text": [
            "[['sky', 'is', 'blue', '.'], ['leaves', 'are', 'green', '.'], ['roses', 'are', 'red', '.']]\n"
          ],
          "name": "stdout"
        }
      ]
    },
    {
      "cell_type": "markdown",
      "metadata": {
        "id": "aQsLcuV_-OfB"
      },
      "source": [
        "## Exercise 03\n",
        "Use the two functions that you have just implemented to get the tokenized data.\n",
        "\n",
        "1. Split the data into sentences.\n",
        "2. Tokenize those sentences."
      ]
    },
    {
      "cell_type": "code",
      "metadata": {
        "id": "SjdbHCk3-Tje"
      },
      "source": [
        "def tokenize_data(data):\n",
        "    \"\"\"\n",
        "    Take the data from the assignment and tokenize it\n",
        "    Input: Data, a str read from the file\n",
        "    Output: list of lists with tokenized data\n",
        "    \"\"\"\n",
        "\n",
        "    sentences = split_to_sentences(data)\n",
        "    tokens = tokenize_sentences(sentences)\n",
        "\n",
        "    return tokens"
      ],
      "execution_count": 20,
      "outputs": []
    },
    {
      "cell_type": "code",
      "metadata": {
        "id": "muqIC1ve-z8e",
        "outputId": "fb77a1be-180a-4f1f-ad38-70b564c476e1",
        "colab": {
          "base_uri": "https://localhost:8080/",
          "height": 68
        }
      },
      "source": [
        "# TEST\n",
        "x = \"Sky is blue.\\nLeaves are green\\nRoses are red.\"\n",
        "tokenize_data(x)"
      ],
      "execution_count": 21,
      "outputs": [
        {
          "output_type": "execute_result",
          "data": {
            "text/plain": [
              "[['sky', 'is', 'blue', '.'],\n",
              " ['leaves', 'are', 'green'],\n",
              " ['roses', 'are', 'red', '.']]"
            ]
          },
          "metadata": {
            "tags": []
          },
          "execution_count": 21
        }
      ]
    },
    {
      "cell_type": "markdown",
      "metadata": {
        "id": "Smeouye3_MT2"
      },
      "source": [
        "## Split into train and test sets."
      ]
    },
    {
      "cell_type": "code",
      "metadata": {
        "id": "6jokabAk_E9X",
        "outputId": "765e7a42-2ac6-4d73-e047-8a90135345dc",
        "colab": {
          "base_uri": "https://localhost:8080/",
          "height": 68
        }
      },
      "source": [
        "tokenized_data = tokenize_data(data)\n",
        "\n",
        "random.seed(13)\n",
        "\n",
        "random.shuffle(tokenized_data)\n",
        "\n",
        "train_size = 0.8\n",
        "\n",
        "train_data = tokenized_data[0:int(train_size * len(tokenized_data))]\n",
        "test_data = tokenized_data[int(train_size * len(tokenized_data)):]\n",
        "\n",
        "print(\"The {} data is split in {} train and {} test examples\".format(len(tokenized_data), len(train_data), len(test_data)))\n",
        "\n",
        "print(\"The first train sample is:\", train_data[0])\n",
        "print(\"The first test sample is:\", test_data[0])"
      ],
      "execution_count": 23,
      "outputs": [
        {
          "output_type": "stream",
          "text": [
            "The 47961 data is split in 38368 train and 9593 test examples\n",
            "The first train sample is: ['i', 'miss', 'you', 'too', '!']\n",
            "The first test sample is: ['haha', 'just', 'txt', 'me']\n"
          ],
          "name": "stdout"
        }
      ]
    },
    {
      "cell_type": "markdown",
      "metadata": {
        "id": "XyqysFzOBR-e"
      },
      "source": [
        "## Exercise 04\n",
        "You won't use all the tokens (words) appearing in the data for training. Instead, you will use the more frequently used words.\n",
        "\n",
        "You will focus on the words that appear at least N times in the data.\n",
        "* First count how many times each word appears in the data.\n",
        "* You will need a double for-loop, one for sentences and the other for tokens within a sentence.\n",
        "\n",
        "* If you decide to import and use defaultdict, remember to cast the dictionary back to a regular 'dict' before returning it."
      ]
    },
    {
      "cell_type": "code",
      "metadata": {
        "id": "lfuVfB4XBnIs"
      },
      "source": [
        "def count_words(tokenized_sentences):\n",
        "    \"\"\"\n",
        "    Count how many times a word appears in the data\n",
        "    Input:\n",
        "    List of list of words\n",
        "    Output:\n",
        "    Dictionary where keys are words and values are the counts\n",
        "    \"\"\"\n",
        "    word_counts = {}\n",
        "\n",
        "    # Go through each sentence. Inside each sentence go through each word.\n",
        "    for sent in tokenized_sentences:\n",
        "        for w in sent:\n",
        "          # If the word is not included yet, include it and count that I have seen it once.\n",
        "            if w not in word_counts.keys():\n",
        "                word_counts[w] = 1\n",
        "          # If the word already exists, add 1.\n",
        "            else:\n",
        "                word_counts[w] += 1\n",
        "    \n",
        "    return word_counts\n"
      ],
      "execution_count": 25,
      "outputs": []
    },
    {
      "cell_type": "code",
      "metadata": {
        "id": "XHxGyVjYC9UN",
        "outputId": "371e9b8a-a397-4373-eb41-adf22a54aa62",
        "colab": {
          "base_uri": "https://localhost:8080/",
          "height": 34
        }
      },
      "source": [
        "test_a = [['sky', 'is', 'blue', '.'],\n",
        "                       ['leaves', 'are', 'green', '.'],\n",
        "                       ['roses', 'are', 'red', '.']]\n",
        "\n",
        "a = count_words(test_a)\n",
        "\n",
        "print(a)"
      ],
      "execution_count": 27,
      "outputs": [
        {
          "output_type": "stream",
          "text": [
            "{'sky': 1, 'is': 1, 'blue': 1, '.': 3, 'leaves': 1, 'are': 2, 'green': 1, 'roses': 1, 'red': 1}\n"
          ],
          "name": "stdout"
        }
      ]
    },
    {
      "cell_type": "markdown",
      "metadata": {
        "id": "TI7yrvcNDSkQ"
      },
      "source": [
        "## Handling 'Out of Vocabulary' words\n",
        "If your model is performing autocomplete, but encounters a word that it never saw during training, it won't have an input word to help it determine the next word to suggest. The model will not be able to predict the next word because there are no counts for the current word.\n",
        "\n",
        "* This 'new' word is called an 'unknown word', or out of vocabulary (OOV) words.\n",
        "* The percentage of unknown words in the test set is called the OOV rate.\n",
        "\n",
        "To handle unknown words during prediction, use a special token to represent all unknown words 'unk'.\n",
        "\n",
        "* Modify the training data so that it has some 'unknown' words to train on.\n",
        "* Words to convert into \"unknown\" words are those that do not occur very frequently in the training set.\n",
        "* Create a list of the most frequent words in the training set, called the closed vocabulary .\n",
        "* Convert all the other words that are not part of the closed vocabulary to the token 'unk'."
      ]
    },
    {
      "cell_type": "markdown",
      "metadata": {
        "id": "Z__FbUYsDhvc"
      },
      "source": [
        "## Exercise 05\n",
        "You will now create a function that takes in a text document and a threshold 'count_threshold'.\n",
        "\n",
        "Any word whose count is greater than or equal to the threshold 'count_threshold' is kept in the closed vocabulary.\n",
        "used that you want to keep, returns the document containing only the word closed vocabulary and the word unk."
      ]
    },
    {
      "cell_type": "code",
      "metadata": {
        "id": "cTP-W__gEKqh"
      },
      "source": [
        "def get_words_with_nplus_freq(tokenized_sentences, count_threshold):\n",
        "    \"\"\"\n",
        "    Keep only the words that appear frequently. I will replace the others by <UNK>\n",
        "\n",
        "    input: the tokenized sentences (list of lists) and a number\n",
        "    Output: Vocabulary list    \n",
        "    \"\"\"\n",
        "\n",
        "    closed_vocab = []\n",
        "    word_count = count_words(tokenized_sentences)\n",
        "\n",
        "    for word, count in word_count.items():\n",
        "        if count >= count_threshold:\n",
        "            closed_vocab.append(word)\n",
        "\n",
        "    return closed_vocab"
      ],
      "execution_count": 29,
      "outputs": []
    },
    {
      "cell_type": "code",
      "metadata": {
        "id": "hOss_8bIFfvd",
        "outputId": "48b0f41d-a250-4b1f-ab7f-29ddfc6c962a",
        "colab": {
          "base_uri": "https://localhost:8080/",
          "height": 34
        }
      },
      "source": [
        "# Test\n",
        "\n",
        "a_sentences = [['sky', 'is', 'blue', '.'],\n",
        "                       ['leaves', 'are', 'green', '.'],\n",
        "                       ['roses', 'are', 'red', '.']]\n",
        "\n",
        "a_vocab = get_words_with_nplus_freq(a_sentences, count_threshold = 2)\n",
        "print(a_vocab)"
      ],
      "execution_count": 31,
      "outputs": [
        {
          "output_type": "stream",
          "text": [
            "['.', 'are']\n"
          ],
          "name": "stdout"
        }
      ]
    },
    {
      "cell_type": "markdown",
      "metadata": {
        "id": "YgKYVS9kFzWP"
      },
      "source": [
        "## Exercise 06\n",
        "The words that appear 'count_threshold' times or more are in the 'closed vocabulary.\n",
        "\n",
        "* All other words are regarded as 'unknown'.\n",
        "* Replace words not in the closed vocabulary with the token \"<unk>\"."
      ]
    }
  ]
}