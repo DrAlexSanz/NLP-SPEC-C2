{
  "nbformat": 4,
  "nbformat_minor": 0,
  "metadata": {
    "colab": {
      "name": "Copia de POS_1.ipynb",
      "provenance": [],
      "collapsed_sections": [],
      "authorship_tag": "ABX9TyOHrjensBdZKOrgIVFS0DiI",
      "include_colab_link": true
    },
    "kernelspec": {
      "name": "python3",
      "display_name": "Python 3"
    }
  },
  "cells": [
    {
      "cell_type": "markdown",
      "metadata": {
        "id": "view-in-github",
        "colab_type": "text"
      },
      "source": [
        "<a href=\"https://colab.research.google.com/github/DrAlexSanz/NLP-SPEC-C2/blob/master/W2/POS_1.ipynb\" target=\"_parent\"><img src=\"https://colab.research.google.com/assets/colab-badge.svg\" alt=\"Open In Colab\"/></a>"
      ]
    },
    {
      "cell_type": "code",
      "metadata": {
        "id": "dLIzKTWJyMC_",
        "outputId": "6dd3d174-11d0-4e43-b06d-d829d64655d0",
        "colab": {
          "base_uri": "https://localhost:8080/"
        }
      },
      "source": [
        "!wget https://raw.githubusercontent.com/DrAlexSanz/NLP-SPEC-C2/master/W2/WSJ_02-21.pos\n",
        "!wget https://raw.githubusercontent.com/DrAlexSanz/NLP-SPEC-C2/master/W2/WSJ_24.pos\n",
        "!wget https://raw.githubusercontent.com/DrAlexSanz/NLP-SPEC-C2/master/W2/hmm_vocab.txt\n",
        "!wget https://raw.githubusercontent.com/DrAlexSanz/NLP-SPEC-C2/master/W2/test.words.txt\n",
        "!wget https://raw.githubusercontent.com/DrAlexSanz/NLP-SPEC-C2/master/W2/utils_pos.py"
      ],
      "execution_count": 1,
      "outputs": [
        {
          "output_type": "stream",
          "text": [
            "--2020-10-07 19:47:54--  https://raw.githubusercontent.com/DrAlexSanz/NLP-SPEC-C2/master/W2/WSJ_02-21.pos\n",
            "Resolving raw.githubusercontent.com (raw.githubusercontent.com)... 151.101.0.133, 151.101.64.133, 151.101.128.133, ...\n",
            "Connecting to raw.githubusercontent.com (raw.githubusercontent.com)|151.101.0.133|:443... connected.\n",
            "HTTP request sent, awaiting response... 200 OK\n",
            "Length: 8279089 (7.9M) [text/plain]\n",
            "Saving to: ‘WSJ_02-21.pos’\n",
            "\n",
            "WSJ_02-21.pos       100%[===================>]   7.90M  17.4MB/s    in 0.5s    \n",
            "\n",
            "2020-10-07 19:47:55 (17.4 MB/s) - ‘WSJ_02-21.pos’ saved [8279089/8279089]\n",
            "\n",
            "--2020-10-07 19:47:55--  https://raw.githubusercontent.com/DrAlexSanz/NLP-SPEC-C2/master/W2/WSJ_24.pos\n",
            "Resolving raw.githubusercontent.com (raw.githubusercontent.com)... 151.101.0.133, 151.101.64.133, 151.101.128.133, ...\n",
            "Connecting to raw.githubusercontent.com (raw.githubusercontent.com)|151.101.0.133|:443... connected.\n",
            "HTTP request sent, awaiting response... 200 OK\n",
            "Length: 286063 (279K) [text/plain]\n",
            "Saving to: ‘WSJ_24.pos’\n",
            "\n",
            "WSJ_24.pos          100%[===================>] 279.36K  --.-KB/s    in 0.06s   \n",
            "\n",
            "2020-10-07 19:47:55 (4.75 MB/s) - ‘WSJ_24.pos’ saved [286063/286063]\n",
            "\n",
            "--2020-10-07 19:47:55--  https://raw.githubusercontent.com/DrAlexSanz/NLP-SPEC-C2/master/W2/hmm_vocab.txt\n",
            "Resolving raw.githubusercontent.com (raw.githubusercontent.com)... 151.101.0.133, 151.101.64.133, 151.101.128.133, ...\n",
            "Connecting to raw.githubusercontent.com (raw.githubusercontent.com)|151.101.0.133|:443... connected.\n",
            "HTTP request sent, awaiting response... 200 OK\n",
            "Length: 196571 (192K) [text/plain]\n",
            "Saving to: ‘hmm_vocab.txt’\n",
            "\n",
            "hmm_vocab.txt       100%[===================>] 191.96K  --.-KB/s    in 0.04s   \n",
            "\n",
            "2020-10-07 19:47:55 (4.20 MB/s) - ‘hmm_vocab.txt’ saved [196571/196571]\n",
            "\n",
            "--2020-10-07 19:47:55--  https://raw.githubusercontent.com/DrAlexSanz/NLP-SPEC-C2/master/W2/test.words.txt\n",
            "Resolving raw.githubusercontent.com (raw.githubusercontent.com)... 151.101.0.133, 151.101.64.133, 151.101.128.133, ...\n",
            "Connecting to raw.githubusercontent.com (raw.githubusercontent.com)|151.101.0.133|:443... connected.\n",
            "HTTP request sent, awaiting response... 200 OK\n",
            "Length: 180266 (176K) [text/plain]\n",
            "Saving to: ‘test.words.txt’\n",
            "\n",
            "test.words.txt      100%[===================>] 176.04K  --.-KB/s    in 0.04s   \n",
            "\n",
            "2020-10-07 19:47:55 (4.05 MB/s) - ‘test.words.txt’ saved [180266/180266]\n",
            "\n",
            "--2020-10-07 19:47:55--  https://raw.githubusercontent.com/DrAlexSanz/NLP-SPEC-C2/master/W2/utils_pos.py\n",
            "Resolving raw.githubusercontent.com (raw.githubusercontent.com)... 151.101.0.133, 151.101.64.133, 151.101.128.133, ...\n",
            "Connecting to raw.githubusercontent.com (raw.githubusercontent.com)|151.101.0.133|:443... connected.\n",
            "HTTP request sent, awaiting response... 200 OK\n",
            "Length: 2455 (2.4K) [text/plain]\n",
            "Saving to: ‘utils_pos.py’\n",
            "\n",
            "utils_pos.py        100%[===================>]   2.40K  --.-KB/s    in 0s      \n",
            "\n",
            "2020-10-07 19:47:56 (33.2 MB/s) - ‘utils_pos.py’ saved [2455/2455]\n",
            "\n"
          ],
          "name": "stdout"
        }
      ]
    },
    {
      "cell_type": "code",
      "metadata": {
        "id": "VTpjcFOSysR2"
      },
      "source": [
        "import numpy as np\n",
        "import pandas as pd"
      ],
      "execution_count": 2,
      "outputs": []
    },
    {
      "cell_type": "markdown",
      "metadata": {
        "id": "uyGT09SFnVfe"
      },
      "source": [
        "### Some information on tags\n",
        "For this notebook you will be using a toy example including only three tags (or states). In a real world application there are many more tags which can be found here."
      ]
    },
    {
      "cell_type": "code",
      "metadata": {
        "id": "koplwpQ_nbEq"
      },
      "source": [
        "# Define corresponding tags\n",
        "\n",
        "tags = [\"RB\", \"NN\", \"TO\"] # Tags are Adverb, Noun and TO (preposition)"
      ],
      "execution_count": 3,
      "outputs": []
    },
    {
      "cell_type": "markdown",
      "metadata": {
        "id": "1db9KmXEnoK2"
      },
      "source": [
        "In this week's assignment you will construct some dictionaries that provide useful information of the tags and words you will be working with.\n",
        "\n",
        "One of these dictionaries is the transition_counts which counts the number of times a particular tag happened next to another. The keys of this dictionary have the form (previous_tag, tag) and the values are the frequency of occurrences.\n",
        "\n",
        "Another one is the emission_counts dictionary which will count the number of times a particular pair of (tag, word) appeared in the training dataset.\n",
        "\n",
        "In general think of transition when working with tags only and of emission when working with tags and words.\n",
        "\n",
        "In this notebook you will be looking at the first one:"
      ]
    },
    {
      "cell_type": "code",
      "metadata": {
        "id": "Lu9H9B48oO7F"
      },
      "source": [
        "# Define transition_dict\n",
        "\n",
        "transition_counts = {\n",
        "    (\"NN\", \"NN\"): 16241,\n",
        "    (\"RB\", \"RB\"): 2263,\n",
        "    (\"TO\", \"TO\"): 2,\n",
        "    ('NN', 'TO'): 5256,\n",
        "    ('RB', 'TO'): 855,\n",
        "    ('TO', 'NN'): 734,\n",
        "    ('NN', 'RB'): 2431,\n",
        "    ('RB', 'NN'): 358,\n",
        "    ('TO', 'RB'): 200\n",
        "    }"
      ],
      "execution_count": 6,
      "outputs": []
    },
    {
      "cell_type": "code",
      "metadata": {
        "id": "zphcn9ZOo0lg"
      },
      "source": [
        "num_tags = len(tags)\n",
        "\n",
        "transition_matrix = np.zeros((num_tags, num_tags))"
      ],
      "execution_count": 8,
      "outputs": []
    },
    {
      "cell_type": "code",
      "metadata": {
        "id": "DZYfbxPnpHVb",
        "outputId": "9d159069-c0a8-487b-b23a-2edc1dc9dfc8",
        "colab": {
          "base_uri": "https://localhost:8080/"
        }
      },
      "source": [
        "# For consistency\n",
        "sorted_tags = sorted(tags)\n",
        "sorted_tags"
      ],
      "execution_count": 10,
      "outputs": [
        {
          "output_type": "execute_result",
          "data": {
            "text/plain": [
              "['NN', 'RB', 'TO']"
            ]
          },
          "metadata": {
            "tags": []
          },
          "execution_count": 10
        }
      ]
    },
    {
      "cell_type": "markdown",
      "metadata": {
        "id": "4vy7BUN0paJB"
      },
      "source": [
        "To fill this matrix with the correct values you can use a double for loop. You could also use itertools.product to one line this double loop:"
      ]
    },
    {
      "cell_type": "code",
      "metadata": {
        "id": "jqoI2vScpbAQ",
        "outputId": "26248828-4960-4c5f-d184-5ec75938f09b",
        "colab": {
          "base_uri": "https://localhost:8080/"
        }
      },
      "source": [
        "for i in range(num_tags):\n",
        "\n",
        "  for j in range(num_tags):\n",
        "      tag_tuple = (sorted_tags[i], sorted_tags[j])\n",
        "\n",
        "      transition_matrix[i, j] = transition_counts.get(tag_tuple)\n",
        "\n",
        "print(transition_matrix)"
      ],
      "execution_count": 11,
      "outputs": [
        {
          "output_type": "stream",
          "text": [
            "[[1.6241e+04 2.4310e+03 5.2560e+03]\n",
            " [3.5800e+02 2.2630e+03 8.5500e+02]\n",
            " [7.3400e+02 2.0000e+02 2.0000e+00]]\n"
          ],
          "name": "stdout"
        }
      ]
    }
  ]
}